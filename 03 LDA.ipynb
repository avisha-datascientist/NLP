{
 "cells": [
  {
   "cell_type": "markdown",
   "id": "786f747d",
   "metadata": {},
   "source": [
    "Before you turn this problem in, make sure everything runs as expected. First, **restart the kernel** (in the menubar, select Kernel$\\rightarrow$Restart) and then **run all cells** (in the menubar, select Cell$\\rightarrow$Run All) to avoid typical problems with Jupyter notebooks. **Unfortunately, this does not work with Chrome right now, you will also need to reload the tab in Chrome afterwards**.\n",
    "\n",
    "Make sure you fill in any place that says `YOUR CODE HERE` or \"YOUR ANSWER HERE\". Please put your name here:"
   ]
  },
  {
   "cell_type": "code",
   "execution_count": 1,
   "id": "c94e9496",
   "metadata": {},
   "outputs": [],
   "source": [
    "NAME = \"AVISHA ANILKUMAR BHIRYANI\""
   ]
  },
  {
   "cell_type": "markdown",
   "id": "7207d4bd",
   "metadata": {},
   "source": [
    "---"
   ]
  },
  {
   "cell_type": "markdown",
   "id": "ccc15fc1",
   "metadata": {
    "deletable": false,
    "editable": false,
    "nbgrader": {
     "cell_type": "markdown",
     "checksum": "bdeba1289ceafcbd2ac6a9fda4541604",
     "grade": false,
     "grade_id": "cell-dddd9b472cdda421",
     "locked": true,
     "schema_version": 3,
     "solution": false,
     "task": false
    }
   },
   "source": [
    "# Latent Dirichlet Allocation\n",
    "\n",
    "Now we will use latent dirichlet allocation\n",
    "\n",
    "**Important notice:** the \"Validate\" function might timeout at 30 or 60 seconds.\n",
    "We intend to have the actual autograding later run with higher tolerance."
   ]
  },
  {
   "cell_type": "code",
   "execution_count": 2,
   "id": "43686fed",
   "metadata": {
    "deletable": false,
    "editable": false,
    "nbgrader": {
     "cell_type": "code",
     "checksum": "6dd047a5f2cf5fdc2ca134bcc7fecd40",
     "grade": false,
     "grade_id": "cell-cf0a1f8d45f50016",
     "locked": true,
     "schema_version": 3,
     "solution": false,
     "task": false
    }
   },
   "outputs": [],
   "source": [
    "### Load the input data - do not modify\n",
    "import json, gzip, numpy as np\n",
    "raw = json.load(gzip.open(\"/data/simpsonswiki.json.gz\", \"rt\", encoding=\"utf-8\"))\n",
    "titles, texts, classes = [x[\"title\"] for x in raw], [x[\"text\"] for x in raw], [x[\"c\"] for x in raw]"
   ]
  },
  {
   "cell_type": "code",
   "execution_count": 3,
   "id": "4bf9c607",
   "metadata": {
    "deletable": false,
    "editable": false,
    "nbgrader": {
     "cell_type": "code",
     "checksum": "d8157a27191eebd540f4a033adff0bbd",
     "grade": true,
     "grade_id": "cell-18d1ddbce7ee1fe7",
     "locked": true,
     "points": 0,
     "schema_version": 3,
     "solution": false,
     "task": false
    }
   },
   "outputs": [],
   "source": [
    "### This cell reduces the data set size for the autograder tests - do not modify"
   ]
  },
  {
   "cell_type": "code",
   "execution_count": 4,
   "id": "a878ace3",
   "metadata": {
    "deletable": false,
    "editable": false,
    "nbgrader": {
     "cell_type": "code",
     "checksum": "7c5f701671ffe89035fb4e56423452cb",
     "grade": false,
     "grade_id": "cell-dafc634f8c46b474",
     "locked": true,
     "schema_version": 3,
     "solution": false,
     "task": false
    }
   },
   "outputs": [],
   "source": [
    "### Vectorize the text - do not modify\n",
    "from sklearn.feature_extraction.text import CountVectorizer\n",
    "cvect = CountVectorizer(stop_words=\"english\", min_df=5)\n",
    "counts = cvect.fit_transform(texts)\n",
    "vocabulary = cvect.get_feature_names_out()"
   ]
  },
  {
   "cell_type": "code",
   "execution_count": 9,
   "id": "ec7cf3c2",
   "metadata": {},
   "outputs": [
    {
     "data": {
      "text/plain": [
       "array(['00', '000', '01', ..., 'zzyzwicz', 'zörker', 'üter'], dtype=object)"
      ]
     },
     "execution_count": 9,
     "metadata": {},
     "output_type": "execute_result"
    }
   ],
   "source": [
    "vocabulary"
   ]
  },
  {
   "cell_type": "markdown",
   "id": "df4af627",
   "metadata": {
    "deletable": false,
    "editable": false,
    "nbgrader": {
     "cell_type": "markdown",
     "checksum": "a9e239303e2a6f8ee64c71e9a1b0bfd6",
     "grade": false,
     "grade_id": "cell-f50d41a9220315d1",
     "locked": true,
     "schema_version": 3,
     "solution": false,
     "task": false
    }
   },
   "source": [
    "## Explore your result\n",
    "\n",
    "Explore the result: write a function to determine the most important words for each factor, and the most relevant documents.\n",
    "\n",
    "**COPY your code from the first file here** (one of the rare cases, where copying is okay)"
   ]
  },
  {
   "cell_type": "code",
   "execution_count": 5,
   "id": "9dcf971e",
   "metadata": {
    "deletable": false,
    "nbgrader": {
     "cell_type": "code",
     "checksum": "8d81e82f2aaf8dedf2e57743c005ffe4",
     "grade": false,
     "grade_id": "cell-c3a23922942e74ed",
     "locked": false,
     "schema_version": 3,
     "solution": true,
     "task": false
    }
   },
   "outputs": [],
   "source": [
    "def most_important(vocabulary, factor, k=10):\n",
    "    \"\"\"Most important words for each factor\"\"\"\n",
    "    # YOUR CODE HERE\n",
    "    dict_words = {}\n",
    "    i = 0\n",
    "    for key in vocabulary:\n",
    "        dict_words[key] = factor[i]\n",
    "        i = i+1\n",
    "    sorted_words = dict(sorted(dict_words.items(), key=lambda item: item[1], reverse=True))\n",
    "    arr = [each for each in list(sorted_words)[:k]]\n",
    "    return arr\n",
    "\n",
    "def most_relevant(assignment, k=5):\n",
    "    \"\"\"Most relevant documents for each factor (return document indexes)\"\"\"\n",
    "    # YOUR CODE HERE\n",
    "    arr = []\n",
    "    dict_docs = {}\n",
    "    for i in range(0,len(assignment)):\n",
    "        dict_docs[i] = assignment[i]\n",
    "        i = i+1\n",
    "    sorted_docs = dict(sorted(dict_docs.items(), key=lambda item: item[1], reverse=True))\n",
    "    arr= [each for each in list(sorted_docs)[:k]]\n",
    "    return arr\n",
    "\n",
    "def explain(vocabulary, titles, classes, factors, assignment, weights=None):\n",
    "    \"\"\"Print an explanation for each factor.\n",
    "       If weights is None, use the relative share of the assignment weights.\n",
    "       Print the ARI when assigning each document to its maximum only.\"\"\"\n",
    "    from sklearn.metrics import adjusted_rand_score\n",
    "    # YOUR CODE HERE\n",
    "    if weights is not None:\n",
    "        total_factors = factors.shape[0]\n",
    "        for i in range(0,total_factors):\n",
    "            important_words = most_important(vocabulary, factors[i])\n",
    "            important_docs = most_relevant(assignment[:i])\n",
    "            print(i)\n",
    "            print(important_docs)\n",
    "            print(important_words)"
   ]
  },
  {
   "cell_type": "markdown",
   "id": "2162d878",
   "metadata": {
    "deletable": false,
    "editable": false,
    "nbgrader": {
     "cell_type": "markdown",
     "checksum": "343e0b92e8ac9f291186d9f6235bc36d",
     "grade": false,
     "grade_id": "cell-81e7c78fd5e435e3",
     "locked": true,
     "schema_version": 3,
     "solution": false,
     "task": false
    }
   },
   "source": [
    "## Latent Dirichlet Allocation\n",
    "\n",
    "Apply LDA from the `sklearn` package onto the data. Return the topic word distributions as well as the document topic distributions."
   ]
  },
  {
   "cell_type": "code",
   "execution_count": 45,
   "id": "3df73e00",
   "metadata": {
    "deletable": false,
    "nbgrader": {
     "cell_type": "code",
     "checksum": "6107ba8c4e8cabdc810651c7023f20a1",
     "grade": false,
     "grade_id": "cell-0a8eaf9206f7b844",
     "locked": false,
     "schema_version": 3,
     "solution": true,
     "task": false
    }
   },
   "outputs": [],
   "source": [
    "### Use sklearn LDA here:\n",
    "def lda(counts, k):\n",
    "    \"\"\"Latent Dirichlet Allocation. Return the factors and document assignment\"\"\"\n",
    "    # YOUR CODE HERE\n",
    "    from sklearn.decomposition import LatentDirichletAllocation\n",
    "    clf = LatentDirichletAllocation(n_components=k) \n",
    "    assignment = clf.fit_transform(counts)\n",
    "    factors = clf.components_ / clf.components_.sum(axis=1)[:, np.newaxis]\n",
    "    return factors, assignment"
   ]
  },
  {
   "cell_type": "code",
   "execution_count": 46,
   "id": "981634ec",
   "metadata": {
    "deletable": false,
    "editable": false,
    "nbgrader": {
     "cell_type": "code",
     "checksum": "739a1a86b83435347cd7ba0c1a5be8b4",
     "grade": true,
     "grade_id": "cell-1ef554d1a2ce15e0",
     "locked": true,
     "points": 1,
     "schema_version": 3,
     "solution": false,
     "task": false
    }
   },
   "outputs": [],
   "source": [
    "### Automatic tests. You do not need to understand or modify this code.\n",
    "_tmp = lda(counts[:100], 2)\n",
    "assert len(_tmp) == 2, \"Incomplete result\"\n",
    "assert _tmp[0].shape == (2, counts.shape[1]), \"Factor shape is not correct.\"\n",
    "assert _tmp[1].shape == (100, 2), \"Assignment shape is not correct.\"\n",
    "assert abs(_tmp[0].sum()-2)<1e-7, \"Topic word matrix are not probabilities.\"\n",
    "assert abs(_tmp[1].sum()-100)<1e-7, \"Document topic matrix are not probabilities.\"\n",
    "del _tmp"
   ]
  },
  {
   "cell_type": "code",
   "execution_count": 47,
   "id": "9991e9ea",
   "metadata": {
    "deletable": false,
    "editable": false,
    "nbgrader": {
     "cell_type": "code",
     "checksum": "06671cb1513d58d1321003824cdf1ec2",
     "grade": false,
     "grade_id": "cell-23ba428b00777c06",
     "locked": true,
     "schema_version": 3,
     "solution": false,
     "task": false
    }
   },
   "outputs": [],
   "source": [
    "# Explore your result. These must be meaningful topics!\n",
    "# but the most relevant documents found here are not as good\n",
    "lda_factors, lda_assignment = lda(counts, 6)\n",
    "explain(vocabulary, titles, classes, lda_factors, lda_assignment)"
   ]
  },
  {
   "cell_type": "code",
   "execution_count": 48,
   "id": "0c0c245f",
   "metadata": {
    "deletable": false,
    "editable": false,
    "nbgrader": {
     "cell_type": "code",
     "checksum": "aec94a4a8fc6abe6f0ab9d81b10f6dba",
     "grade": true,
     "grade_id": "cell-d15fe000cf2cd66e",
     "locked": true,
     "points": 1,
     "schema_version": 3,
     "solution": false,
     "task": false
    }
   },
   "outputs": [],
   "source": [
    "### This cell contains additional tests. You do not need to modify this cell."
   ]
  },
  {
   "cell_type": "code",
   "execution_count": null,
   "id": "bb820520",
   "metadata": {},
   "outputs": [],
   "source": []
  }
 ],
 "metadata": {
  "kernelspec": {
   "display_name": "Python 3 (ipykernel)",
   "language": "python",
   "name": "python3"
  },
  "language_info": {
   "codemirror_mode": {
    "name": "ipython",
    "version": 3
   },
   "file_extension": ".py",
   "mimetype": "text/x-python",
   "name": "python",
   "nbconvert_exporter": "python",
   "pygments_lexer": "ipython3",
   "version": "3.8.10"
  }
 },
 "nbformat": 4,
 "nbformat_minor": 5
}
