{
 "cells": [
  {
   "cell_type": "markdown",
   "id": "dfe6e91d",
   "metadata": {},
   "source": [
    "Before you turn this problem in, make sure everything runs as expected. First, **restart the kernel** (in the menubar, select Kernel$\\rightarrow$Restart) and then **run all cells** (in the menubar, select Cell$\\rightarrow$Run All) to avoid typical problems with Jupyter notebooks. **Unfortunately, this does not work with Chrome right now, you will also need to reload the tab in Chrome afterwards**.\n",
    "\n",
    "Make sure you fill in any place that says `YOUR CODE HERE` or \"YOUR ANSWER HERE\". Please put your name here:"
   ]
  },
  {
   "cell_type": "code",
   "execution_count": null,
   "id": "283079d6",
   "metadata": {},
   "outputs": [],
   "source": [
    "NAME = \"AVISHA BHIRYANI\""
   ]
  },
  {
   "cell_type": "markdown",
   "id": "bbd18714",
   "metadata": {},
   "source": [
    "---"
   ]
  },
  {
   "cell_type": "markdown",
   "id": "513a025f",
   "metadata": {
    "deletable": false,
    "editable": false,
    "nbgrader": {
     "cell_type": "markdown",
     "checksum": "9b3a772f3391e481cdf37f3763446ba3",
     "grade": false,
     "grade_id": "cell-07702c6323035c14",
     "locked": true,
     "schema_version": 3,
     "solution": false,
     "task": false
    }
   },
   "source": [
    "# Setup our working context and load the data\n",
    "\n",
    "In this assignment, we will work with a database of inaugural speeches of US presidents."
   ]
  },
  {
   "cell_type": "code",
   "execution_count": 2,
   "id": "41cdbef6",
   "metadata": {
    "deletable": false,
    "editable": false,
    "nbgrader": {
     "cell_type": "code",
     "checksum": "629a869cb5c294f18b439df85ad29cf0",
     "grade": false,
     "grade_id": "cell-16c9afea02d4fc0f",
     "locked": true,
     "schema_version": 3,
     "solution": false,
     "task": false
    }
   },
   "outputs": [],
   "source": [
    "import numpy as np, pandas as pd, matplotlib.pyplot as plt, scipy.sparse\n",
    "import gzip, json\n",
    "inaugural = json.load(gzip.open(\"/data/datasets/inaugural.json.gz\",\"rt\"))\n",
    "labels = [t[0] for t in inaugural]\n",
    "speeches = [t[1] for t in inaugural]"
   ]
  },
  {
   "cell_type": "markdown",
   "id": "9db21fe5",
   "metadata": {
    "deletable": false,
    "editable": false,
    "nbgrader": {
     "cell_type": "markdown",
     "checksum": "b6d4b371cc85ac597319240c5c3bb7ab",
     "grade": false,
     "grade_id": "cell-af116721e56ca2d4",
     "locked": true,
     "schema_version": 3,
     "solution": false,
     "task": false
    }
   },
   "source": [
    "# Build a Sparse Document-Term Matrix\n",
    "\n",
    "Build a document-term matrix for the inaugural speeches.\n",
    "\n",
    "Use sparse data structures, a minimum document frequency of 5, remove english stopwords."
   ]
  },
  {
   "cell_type": "code",
   "execution_count": 154,
   "id": "798ce634",
   "metadata": {
    "deletable": false,
    "nbgrader": {
     "cell_type": "code",
     "checksum": "6a228b5191cd44fb130ca5fe332b7209",
     "grade": false,
     "grade_id": "cell-114c21537f268c42",
     "locked": false,
     "schema_version": 3,
     "solution": true,
     "task": false
    }
   },
   "outputs": [
    {
     "name": "stdout",
     "output_type": "stream",
     "text": [
      "Document term matrix has shape (58, 2158)\n"
     ]
    }
   ],
   "source": [
    "from sklearn.feature_extraction.text import CountVectorizer # Please use this\n",
    "vocab = None # Your vocabulary\n",
    "dtm = None # Your sparse document term matrix\n",
    "# YOUR CODE HERE\n",
    "coun_vect = CountVectorizer(min_df=5, stop_words='english')\n",
    "dtm = coun_vect.fit_transform(speeches)\n",
    "vocab = coun_vect.vocabulary_\n",
    "print(\"Document term matrix has shape\", dtm.shape)"
   ]
  },
  {
   "cell_type": "code",
   "execution_count": 4,
   "id": "8b4270a4",
   "metadata": {
    "deletable": false,
    "editable": false,
    "nbgrader": {
     "cell_type": "code",
     "checksum": "12a9b577516397351a3a62eeb85e9247",
     "grade": true,
     "grade_id": "cell-bd01a0831d1d883e",
     "locked": true,
     "points": 1,
     "schema_version": 3,
     "solution": false,
     "task": false
    }
   },
   "outputs": [],
   "source": [
    "assert dtm.shape[0] == len(speeches), \"Wrong number of speeches\"\n",
    "assert dtm.shape[1] > 2000, \"You have too few words\"\n",
    "assert dtm.shape[1] < 3000, \"You have too many words\"\n",
    "assert \"president\" in vocab, \"You lost the president\"\n",
    "assert not \"President\" in vocab, \"Please lowercase\"\n",
    "assert not \"the\" in vocab, \"You did not remove stopwords\"\n",
    "assert isinstance(dtm, scipy.sparse.csr_matrix), \"Generate a sparse matrix to conserve memory!\"\n",
    "assert dtm.sum(axis=0).min() == 5, \"Minimum document frequency not OK\""
   ]
  },
  {
   "cell_type": "code",
   "execution_count": null,
   "id": "bf509367",
   "metadata": {
    "deletable": false,
    "editable": false,
    "nbgrader": {
     "cell_type": "code",
     "checksum": "3043cde9006c7396a4eb4c122b36a591",
     "grade": true,
     "grade_id": "cell-4b94f699d027f9dd",
     "locked": true,
     "points": 1,
     "schema_version": 3,
     "solution": false,
     "task": false
    }
   },
   "outputs": [],
   "source": [
    "# Additional tests"
   ]
  },
  {
   "cell_type": "code",
   "execution_count": 5,
   "id": "f5089997",
   "metadata": {
    "deletable": false,
    "editable": false,
    "nbgrader": {
     "cell_type": "code",
     "checksum": "95b230861f6f5b8e321d5828de4ee7af",
     "grade": false,
     "grade_id": "cell-3f85d812bd765b82",
     "locked": true,
     "schema_version": 3,
     "solution": false,
     "task": false
    },
    "scrolled": true
   },
   "outputs": [
    {
     "data": {
      "text/html": [
       "<div>\n",
       "<style scoped>\n",
       "    .dataframe tbody tr th:only-of-type {\n",
       "        vertical-align: middle;\n",
       "    }\n",
       "\n",
       "    .dataframe tbody tr th {\n",
       "        vertical-align: top;\n",
       "    }\n",
       "\n",
       "    .dataframe thead th {\n",
       "        text-align: right;\n",
       "    }\n",
       "</style>\n",
       "<table border=\"1\" class=\"dataframe\">\n",
       "  <thead>\n",
       "    <tr style=\"text-align: right;\">\n",
       "      <th></th>\n",
       "      <th>fellow</th>\n",
       "      <th>citizens</th>\n",
       "      <th>presence</th>\n",
       "      <th>vast</th>\n",
       "      <th>countrymen</th>\n",
       "      <th>oath</th>\n",
       "      <th>shall</th>\n",
       "      <th>great</th>\n",
       "      <th>free</th>\n",
       "      <th>people</th>\n",
       "      <th>...</th>\n",
       "      <th>prominent</th>\n",
       "      <th>beneficial</th>\n",
       "      <th>weakened</th>\n",
       "      <th>glorious</th>\n",
       "      <th>feature</th>\n",
       "      <th>judicial</th>\n",
       "      <th>watching</th>\n",
       "      <th>influences</th>\n",
       "      <th>admission</th>\n",
       "      <th>supposed</th>\n",
       "    </tr>\n",
       "  </thead>\n",
       "  <tbody>\n",
       "    <tr>\n",
       "      <th>1885-Cleveland</th>\n",
       "      <td>0</td>\n",
       "      <td>1</td>\n",
       "      <td>0</td>\n",
       "      <td>0</td>\n",
       "      <td>0</td>\n",
       "      <td>0</td>\n",
       "      <td>0</td>\n",
       "      <td>0</td>\n",
       "      <td>0</td>\n",
       "      <td>0</td>\n",
       "      <td>...</td>\n",
       "      <td>0</td>\n",
       "      <td>0</td>\n",
       "      <td>1</td>\n",
       "      <td>0</td>\n",
       "      <td>0</td>\n",
       "      <td>0</td>\n",
       "      <td>0</td>\n",
       "      <td>1</td>\n",
       "      <td>0</td>\n",
       "      <td>0</td>\n",
       "    </tr>\n",
       "    <tr>\n",
       "      <th>1969-Nixon</th>\n",
       "      <td>0</td>\n",
       "      <td>0</td>\n",
       "      <td>0</td>\n",
       "      <td>0</td>\n",
       "      <td>0</td>\n",
       "      <td>0</td>\n",
       "      <td>0</td>\n",
       "      <td>0</td>\n",
       "      <td>1</td>\n",
       "      <td>0</td>\n",
       "      <td>...</td>\n",
       "      <td>0</td>\n",
       "      <td>0</td>\n",
       "      <td>1</td>\n",
       "      <td>5</td>\n",
       "      <td>0</td>\n",
       "      <td>0</td>\n",
       "      <td>0</td>\n",
       "      <td>0</td>\n",
       "      <td>0</td>\n",
       "      <td>0</td>\n",
       "    </tr>\n",
       "    <tr>\n",
       "      <th>1941-Roosevelt</th>\n",
       "      <td>0</td>\n",
       "      <td>0</td>\n",
       "      <td>0</td>\n",
       "      <td>0</td>\n",
       "      <td>0</td>\n",
       "      <td>0</td>\n",
       "      <td>0</td>\n",
       "      <td>0</td>\n",
       "      <td>0</td>\n",
       "      <td>0</td>\n",
       "      <td>...</td>\n",
       "      <td>2</td>\n",
       "      <td>0</td>\n",
       "      <td>1</td>\n",
       "      <td>6</td>\n",
       "      <td>0</td>\n",
       "      <td>0</td>\n",
       "      <td>0</td>\n",
       "      <td>0</td>\n",
       "      <td>0</td>\n",
       "      <td>0</td>\n",
       "    </tr>\n",
       "    <tr>\n",
       "      <th>1937-Roosevelt</th>\n",
       "      <td>0</td>\n",
       "      <td>1</td>\n",
       "      <td>0</td>\n",
       "      <td>1</td>\n",
       "      <td>0</td>\n",
       "      <td>1</td>\n",
       "      <td>0</td>\n",
       "      <td>0</td>\n",
       "      <td>0</td>\n",
       "      <td>1</td>\n",
       "      <td>...</td>\n",
       "      <td>0</td>\n",
       "      <td>0</td>\n",
       "      <td>1</td>\n",
       "      <td>4</td>\n",
       "      <td>0</td>\n",
       "      <td>0</td>\n",
       "      <td>0</td>\n",
       "      <td>0</td>\n",
       "      <td>0</td>\n",
       "      <td>0</td>\n",
       "    </tr>\n",
       "    <tr>\n",
       "      <th>1965-Johnson</th>\n",
       "      <td>0</td>\n",
       "      <td>1</td>\n",
       "      <td>0</td>\n",
       "      <td>1</td>\n",
       "      <td>0</td>\n",
       "      <td>0</td>\n",
       "      <td>0</td>\n",
       "      <td>0</td>\n",
       "      <td>0</td>\n",
       "      <td>0</td>\n",
       "      <td>...</td>\n",
       "      <td>1</td>\n",
       "      <td>0</td>\n",
       "      <td>0</td>\n",
       "      <td>3</td>\n",
       "      <td>0</td>\n",
       "      <td>0</td>\n",
       "      <td>1</td>\n",
       "      <td>0</td>\n",
       "      <td>0</td>\n",
       "      <td>0</td>\n",
       "    </tr>\n",
       "  </tbody>\n",
       "</table>\n",
       "<p>5 rows × 2158 columns</p>\n",
       "</div>"
      ],
      "text/plain": [
       "                fellow  citizens  presence  vast  countrymen  oath  shall  \\\n",
       "1885-Cleveland       0         1         0     0           0     0      0   \n",
       "1969-Nixon           0         0         0     0           0     0      0   \n",
       "1941-Roosevelt       0         0         0     0           0     0      0   \n",
       "1937-Roosevelt       0         1         0     1           0     1      0   \n",
       "1965-Johnson         0         1         0     1           0     0      0   \n",
       "\n",
       "                great  free  people  ...  prominent  beneficial  weakened  \\\n",
       "1885-Cleveland      0     0       0  ...          0           0         1   \n",
       "1969-Nixon          0     1       0  ...          0           0         1   \n",
       "1941-Roosevelt      0     0       0  ...          2           0         1   \n",
       "1937-Roosevelt      0     0       1  ...          0           0         1   \n",
       "1965-Johnson        0     0       0  ...          1           0         0   \n",
       "\n",
       "                glorious  feature  judicial  watching  influences  admission  \\\n",
       "1885-Cleveland         0        0         0         0           1          0   \n",
       "1969-Nixon             5        0         0         0           0          0   \n",
       "1941-Roosevelt         6        0         0         0           0          0   \n",
       "1937-Roosevelt         4        0         0         0           0          0   \n",
       "1965-Johnson           3        0         0         1           0          0   \n",
       "\n",
       "                supposed  \n",
       "1885-Cleveland         0  \n",
       "1969-Nixon             0  \n",
       "1941-Roosevelt         0  \n",
       "1937-Roosevelt         0  \n",
       "1965-Johnson           0  \n",
       "\n",
       "[5 rows x 2158 columns]"
      ]
     },
     "execution_count": 5,
     "metadata": {},
     "output_type": "execute_result"
    }
   ],
   "source": [
    "# Pretty display the data with pandas:\n",
    "pd.DataFrame.sparse.from_spmatrix(dtm,index=labels,columns=vocab).head()"
   ]
  },
  {
   "cell_type": "code",
   "execution_count": 6,
   "id": "d13cbf77",
   "metadata": {},
   "outputs": [],
   "source": [
    "doc_term_matrix = pd.DataFrame.sparse.from_spmatrix(dtm,index=labels,columns=vocab)"
   ]
  },
  {
   "cell_type": "markdown",
   "id": "0538ed14",
   "metadata": {
    "deletable": false,
    "editable": false,
    "nbgrader": {
     "cell_type": "markdown",
     "checksum": "676f591867462c42d3a3a0f79829c09c",
     "grade": false,
     "grade_id": "cell-6ee37fd607632130",
     "locked": true,
     "schema_version": 3,
     "solution": false,
     "task": false
    }
   },
   "source": [
    "# Most Frequent Words for Each Speech\n",
    "\n",
    "Compute the most frequent word (except for the stopwords already removed) for each speech."
   ]
  },
  {
   "cell_type": "code",
   "execution_count": 7,
   "id": "231e4d95",
   "metadata": {
    "deletable": false,
    "nbgrader": {
     "cell_type": "code",
     "checksum": "3d694d6d8c9a2bb7668f42b8efbd9f3a",
     "grade": false,
     "grade_id": "cell-77c392efa46dae92",
     "locked": false,
     "schema_version": 3,
     "solution": true,
     "task": false
    }
   },
   "outputs": [
    {
     "name": "stdout",
     "output_type": "stream",
     "text": [
      "1789-Washington\tblessed\n",
      "1793-Washington\tmeantime\n",
      "1797-Adams\tdecisions\n",
      "1801-Jefferson\tblessed\n",
      "1805-Jefferson\tpledges\n",
      "1809-Madison\tpledges\n",
      "1813-Madison\tprofound\n",
      "1817-Monroe\tblessed\n",
      "1821-Monroe\tstandards\n",
      "1825-Adams\tcontributed\n",
      "1829-Jackson\tpledges\n",
      "1833-Jackson\tblessed\n",
      "1837-VanBuren\tdecisions\n",
      "1841-Harrison\tpresidential\n",
      "1845-Polk\tblessed\n",
      "1849-Taylor\tmeantime\n",
      "1853-Pierce\tpresidential\n",
      "1857-Buchanan\tafforded\n",
      "1861-Lincoln\tyears\n",
      "1865-Lincoln\tprofound\n",
      "1869-Grant\tmodern\n",
      "1873-Grant\tmodern\n",
      "1877-Hayes\tmodern\n",
      "1881-Garfield\tblessed\n",
      "1885-Cleveland\tdecisions\n",
      "1889-Harrison\tdecisions\n",
      "1893-Cleveland\tdecisions\n",
      "1897-McKinley\tdecisions\n",
      "1901-McKinley\tblessed\n",
      "1905-Roosevelt\tbitter\n",
      "1909-Taft\tblessed\n",
      "1913-Wilson\tstandards\n",
      "1917-Wilson\tmeantime\n",
      "1921-Harding\tslightest\n",
      "1925-Coolidge\tmodern\n",
      "1929-Hoover\tblessed\n",
      "1933-Roosevelt\tsupervision\n",
      "1937-Roosevelt\tblessed\n",
      "1941-Roosevelt\tassert\n",
      "1945-Roosevelt\tmeantime\n",
      "1949-Truman\tslightest\n",
      "1953-Eisenhower\trecognize\n",
      "1957-Eisenhower\tslightest\n",
      "1961-Kennedy\tfacing\n",
      "1965-Johnson\tassert\n",
      "1969-Nixon\tdecisions\n",
      "1973-Nixon\tfacing\n",
      "1977-Carter\tassert\n",
      "1981-Reagan\tblessed\n",
      "1985-Reagan\tblessed\n",
      "1989-Bush\tacting\n",
      "1993-Clinton\tslightest\n",
      "1997-Clinton\tacting\n",
      "2001-Bush\tassert\n",
      "2005-Bush\tincrease\n",
      "2009-Obama\tassert\n",
      "2013-Obama\tdecisions\n",
      "2017-Trump\tform\n"
     ]
    }
   ],
   "source": [
    "# Build a dictionary speech label to most frequent word\n",
    "most_frequent = dict()\n",
    "# YOUR CODE HERE\n",
    "\n",
    "for index, row in doc_term_matrix.iterrows():\n",
    "    most_frequent[index] = row.sort_values(ascending=False).index[0]\n",
    "\n",
    "for sp, w in sorted(most_frequent.items()): print(sp, w, sep=\"\\t\")"
   ]
  },
  {
   "cell_type": "code",
   "execution_count": 8,
   "id": "fa47fe6b",
   "metadata": {
    "deletable": false,
    "editable": false,
    "nbgrader": {
     "cell_type": "code",
     "checksum": "a8eecf337958766ebc814f411a6f5534",
     "grade": true,
     "grade_id": "cell-1468d90cd2a01d90",
     "locked": true,
     "points": 1,
     "schema_version": 3,
     "solution": false,
     "task": false
    }
   },
   "outputs": [
    {
     "ename": "AssertionError",
     "evalue": "Someone talked about america",
     "output_type": "error",
     "traceback": [
      "\u001b[0;31m---------------------------------------------------------------------------\u001b[0m",
      "\u001b[0;31mAssertionError\u001b[0m                            Traceback (most recent call last)",
      "Input \u001b[0;32mIn [8]\u001b[0m, in \u001b[0;36m<cell line: 4>\u001b[0;34m()\u001b[0m\n\u001b[1;32m      2\u001b[0m \u001b[38;5;28;01massert\u001b[39;00m \u001b[38;5;28mset\u001b[39m(most_frequent\u001b[38;5;241m.\u001b[39mkeys()) \u001b[38;5;241m==\u001b[39m \u001b[38;5;28mset\u001b[39m(labels), \u001b[38;5;124m\"\u001b[39m\u001b[38;5;124mYou are missing some speeches\u001b[39m\u001b[38;5;124m\"\u001b[39m\n\u001b[1;32m      3\u001b[0m \u001b[38;5;28;01massert\u001b[39;00m \u001b[38;5;129;01mnot\u001b[39;00m \u001b[38;5;124m\"\u001b[39m\u001b[38;5;124mthe\u001b[39m\u001b[38;5;124m\"\u001b[39m \u001b[38;5;129;01min\u001b[39;00m most_frequent\u001b[38;5;241m.\u001b[39mvalues(), \u001b[38;5;124m\"\u001b[39m\u001b[38;5;124mStopwords not removed\u001b[39m\u001b[38;5;124m\"\u001b[39m\n\u001b[0;32m----> 4\u001b[0m \u001b[38;5;28;01massert\u001b[39;00m \u001b[38;5;124m\"\u001b[39m\u001b[38;5;124mamerica\u001b[39m\u001b[38;5;124m\"\u001b[39m \u001b[38;5;129;01min\u001b[39;00m most_frequent\u001b[38;5;241m.\u001b[39mvalues(), \u001b[38;5;124m\"\u001b[39m\u001b[38;5;124mSomeone talked about america\u001b[39m\u001b[38;5;124m\"\u001b[39m\n",
      "\u001b[0;31mAssertionError\u001b[0m: Someone talked about america"
     ]
    }
   ],
   "source": [
    "assert len(most_frequent) == len(labels), \"You are missing some speeches\"\n",
    "assert set(most_frequent.keys()) == set(labels), \"You are missing some speeches\"\n",
    "assert not \"the\" in most_frequent.values(), \"Stopwords not removed\"\n",
    "assert \"america\" in most_frequent.values(), \"Someone talked about america\""
   ]
  },
  {
   "cell_type": "markdown",
   "id": "116e0954",
   "metadata": {
    "deletable": false,
    "editable": false,
    "nbgrader": {
     "cell_type": "markdown",
     "checksum": "d27a68be9c47b47a094507df12ddf42b",
     "grade": false,
     "grade_id": "cell-a4516e3e82efbcae",
     "locked": true,
     "schema_version": 3,
     "solution": false,
     "task": false
    }
   },
   "source": [
    "# TF-IDF\n",
    "\n",
    "From the document-term matrix, compute the TF-IDF matrix. Implement the standard version of TF-IDF (`ltc`).\n",
    "\n",
    "Be careful with 0 values, ensure that your matrix remains *sparse*. Do *not* rely on Wikipedia, it has errors.\n",
    "\n",
    "Perform the transformation in three steps, named `tf`, `idf`, `tfidf`. First implement term frequency."
   ]
  },
  {
   "cell_type": "code",
   "execution_count": null,
   "id": "1d335e61",
   "metadata": {},
   "outputs": [],
   "source": []
  },
  {
   "cell_type": "code",
   "execution_count": 56,
   "id": "58b4f48a",
   "metadata": {
    "deletable": false,
    "nbgrader": {
     "cell_type": "code",
     "checksum": "7b484b10e2769fa38e6990d1a39ee5c1",
     "grade": false,
     "grade_id": "cell-8a8c6fc0ed03272e",
     "locked": false,
     "schema_version": 3,
     "solution": true,
     "task": false
    },
    "scrolled": true
   },
   "outputs": [
    {
     "name": "stdout",
     "output_type": "stream",
     "text": [
      "Old sum: 44859 new sum: 33817.035 (must be less and float)\n"
     ]
    }
   ],
   "source": [
    "def tf(dtm):\n",
    "    \"\"\"Compute the \"l\" step of standard TF-IDF\"\"\"\n",
    "    # HINT: use dtm.astype(np.float32) to get a *sparse floating point copy* of the dtm matrix.\n",
    "    dtm_float = dtm.astype(np.float32)\n",
    "    #dtm_float_sum = dtm_float.sum(axis = 1)\n",
    "    dtm_float_coo = scipy.sparse.coo_matrix(dtm_float)\n",
    "    dtm_float_formean = scipy.sparse.coo_matrix(dtm_float)\n",
    "    dtm_float_coo.data = np.log(dtm_float_coo.data)\n",
    "    dtm_float_formean.data = dtm_float_coo.data\n",
    "    dtm_float_coo.data = dtm_float_coo.data + 1\n",
    "    \n",
    "    dtm_float_formean_sparse =  scipy.sparse.csr_matrix(dtm_float_formean.todense())\n",
    "    dtm_float_mean = dtm_float_formean_sparse / dtm_float_formean_sparse.sum(axis=1)\n",
    "    \n",
    "    dtm_float_log_f = scipy.sparse.csr_matrix(dtm_float_coo.todense())\n",
    "    dtm_final = (dtm_float_log_f) / (1 + dtm_float_mean)\n",
    "    return scipy.sparse.csr_matrix(dtm_final)\n",
    "\n",
    "print(\"Old sum:\", dtm.sum(), \"new sum:\", tf(dtm).sum(), \"(must be less and float)\")"
   ]
  },
  {
   "cell_type": "code",
   "execution_count": 57,
   "id": "eb6ac900",
   "metadata": {
    "deletable": false,
    "editable": false,
    "nbgrader": {
     "cell_type": "code",
     "checksum": "76718de1efa4d0cf07332e4e279d707b",
     "grade": false,
     "grade_id": "cell-a27302a3ccc5288a",
     "locked": true,
     "schema_version": 3,
     "solution": false,
     "task": false
    },
    "scrolled": true
   },
   "outputs": [
    {
     "data": {
      "text/html": [
       "<div>\n",
       "<style scoped>\n",
       "    .dataframe tbody tr th:only-of-type {\n",
       "        vertical-align: middle;\n",
       "    }\n",
       "\n",
       "    .dataframe tbody tr th {\n",
       "        vertical-align: top;\n",
       "    }\n",
       "\n",
       "    .dataframe thead th {\n",
       "        text-align: right;\n",
       "    }\n",
       "</style>\n",
       "<table border=\"1\" class=\"dataframe\">\n",
       "  <thead>\n",
       "    <tr style=\"text-align: right;\">\n",
       "      <th></th>\n",
       "      <th>fellow</th>\n",
       "      <th>citizens</th>\n",
       "      <th>presence</th>\n",
       "      <th>vast</th>\n",
       "      <th>countrymen</th>\n",
       "      <th>oath</th>\n",
       "      <th>shall</th>\n",
       "      <th>great</th>\n",
       "      <th>free</th>\n",
       "      <th>people</th>\n",
       "      <th>...</th>\n",
       "      <th>prominent</th>\n",
       "      <th>beneficial</th>\n",
       "      <th>weakened</th>\n",
       "      <th>glorious</th>\n",
       "      <th>feature</th>\n",
       "      <th>judicial</th>\n",
       "      <th>watching</th>\n",
       "      <th>influences</th>\n",
       "      <th>admission</th>\n",
       "      <th>supposed</th>\n",
       "    </tr>\n",
       "  </thead>\n",
       "  <tbody>\n",
       "    <tr>\n",
       "      <th>1885-Cleveland</th>\n",
       "      <td>0.0</td>\n",
       "      <td>1.0</td>\n",
       "      <td>0.0</td>\n",
       "      <td>0.0</td>\n",
       "      <td>0.0</td>\n",
       "      <td>0.0</td>\n",
       "      <td>0.0</td>\n",
       "      <td>0.0</td>\n",
       "      <td>0.0</td>\n",
       "      <td>0.0</td>\n",
       "      <td>...</td>\n",
       "      <td>0.000000</td>\n",
       "      <td>0.0</td>\n",
       "      <td>1.0</td>\n",
       "      <td>0.000000</td>\n",
       "      <td>0.0</td>\n",
       "      <td>0.0</td>\n",
       "      <td>0.0</td>\n",
       "      <td>1.0</td>\n",
       "      <td>0.0</td>\n",
       "      <td>0.0</td>\n",
       "    </tr>\n",
       "    <tr>\n",
       "      <th>1969-Nixon</th>\n",
       "      <td>0.0</td>\n",
       "      <td>0.0</td>\n",
       "      <td>0.0</td>\n",
       "      <td>0.0</td>\n",
       "      <td>0.0</td>\n",
       "      <td>0.0</td>\n",
       "      <td>0.0</td>\n",
       "      <td>0.0</td>\n",
       "      <td>1.0</td>\n",
       "      <td>0.0</td>\n",
       "      <td>...</td>\n",
       "      <td>0.000000</td>\n",
       "      <td>0.0</td>\n",
       "      <td>1.0</td>\n",
       "      <td>2.578279</td>\n",
       "      <td>0.0</td>\n",
       "      <td>0.0</td>\n",
       "      <td>0.0</td>\n",
       "      <td>0.0</td>\n",
       "      <td>0.0</td>\n",
       "      <td>0.0</td>\n",
       "    </tr>\n",
       "    <tr>\n",
       "      <th>1941-Roosevelt</th>\n",
       "      <td>0.0</td>\n",
       "      <td>0.0</td>\n",
       "      <td>0.0</td>\n",
       "      <td>0.0</td>\n",
       "      <td>0.0</td>\n",
       "      <td>0.0</td>\n",
       "      <td>0.0</td>\n",
       "      <td>0.0</td>\n",
       "      <td>0.0</td>\n",
       "      <td>0.0</td>\n",
       "      <td>...</td>\n",
       "      <td>1.677022</td>\n",
       "      <td>0.0</td>\n",
       "      <td>1.0</td>\n",
       "      <td>2.724052</td>\n",
       "      <td>0.0</td>\n",
       "      <td>0.0</td>\n",
       "      <td>0.0</td>\n",
       "      <td>0.0</td>\n",
       "      <td>0.0</td>\n",
       "      <td>0.0</td>\n",
       "    </tr>\n",
       "    <tr>\n",
       "      <th>1937-Roosevelt</th>\n",
       "      <td>0.0</td>\n",
       "      <td>1.0</td>\n",
       "      <td>0.0</td>\n",
       "      <td>1.0</td>\n",
       "      <td>0.0</td>\n",
       "      <td>1.0</td>\n",
       "      <td>0.0</td>\n",
       "      <td>0.0</td>\n",
       "      <td>0.0</td>\n",
       "      <td>1.0</td>\n",
       "      <td>...</td>\n",
       "      <td>0.000000</td>\n",
       "      <td>0.0</td>\n",
       "      <td>1.0</td>\n",
       "      <td>2.359126</td>\n",
       "      <td>0.0</td>\n",
       "      <td>0.0</td>\n",
       "      <td>0.0</td>\n",
       "      <td>0.0</td>\n",
       "      <td>0.0</td>\n",
       "      <td>0.0</td>\n",
       "    </tr>\n",
       "    <tr>\n",
       "      <th>1965-Johnson</th>\n",
       "      <td>0.0</td>\n",
       "      <td>1.0</td>\n",
       "      <td>0.0</td>\n",
       "      <td>1.0</td>\n",
       "      <td>0.0</td>\n",
       "      <td>0.0</td>\n",
       "      <td>0.0</td>\n",
       "      <td>0.0</td>\n",
       "      <td>0.0</td>\n",
       "      <td>0.0</td>\n",
       "      <td>...</td>\n",
       "      <td>1.000000</td>\n",
       "      <td>0.0</td>\n",
       "      <td>0.0</td>\n",
       "      <td>2.069033</td>\n",
       "      <td>0.0</td>\n",
       "      <td>0.0</td>\n",
       "      <td>1.0</td>\n",
       "      <td>0.0</td>\n",
       "      <td>0.0</td>\n",
       "      <td>0.0</td>\n",
       "    </tr>\n",
       "  </tbody>\n",
       "</table>\n",
       "<p>5 rows × 2158 columns</p>\n",
       "</div>"
      ],
      "text/plain": [
       "                fellow  citizens  presence  vast  countrymen  oath  shall  \\\n",
       "1885-Cleveland     0.0       1.0       0.0   0.0         0.0   0.0    0.0   \n",
       "1969-Nixon         0.0       0.0       0.0   0.0         0.0   0.0    0.0   \n",
       "1941-Roosevelt     0.0       0.0       0.0   0.0         0.0   0.0    0.0   \n",
       "1937-Roosevelt     0.0       1.0       0.0   1.0         0.0   1.0    0.0   \n",
       "1965-Johnson       0.0       1.0       0.0   1.0         0.0   0.0    0.0   \n",
       "\n",
       "                great  free  people  ...  prominent  beneficial  weakened  \\\n",
       "1885-Cleveland    0.0   0.0     0.0  ...   0.000000         0.0       1.0   \n",
       "1969-Nixon        0.0   1.0     0.0  ...   0.000000         0.0       1.0   \n",
       "1941-Roosevelt    0.0   0.0     0.0  ...   1.677022         0.0       1.0   \n",
       "1937-Roosevelt    0.0   0.0     1.0  ...   0.000000         0.0       1.0   \n",
       "1965-Johnson      0.0   0.0     0.0  ...   1.000000         0.0       0.0   \n",
       "\n",
       "                glorious  feature  judicial  watching  influences  admission  \\\n",
       "1885-Cleveland  0.000000      0.0       0.0       0.0         1.0        0.0   \n",
       "1969-Nixon      2.578279      0.0       0.0       0.0         0.0        0.0   \n",
       "1941-Roosevelt  2.724052      0.0       0.0       0.0         0.0        0.0   \n",
       "1937-Roosevelt  2.359126      0.0       0.0       0.0         0.0        0.0   \n",
       "1965-Johnson    2.069033      0.0       0.0       1.0         0.0        0.0   \n",
       "\n",
       "                supposed  \n",
       "1885-Cleveland       0.0  \n",
       "1969-Nixon           0.0  \n",
       "1941-Roosevelt       0.0  \n",
       "1937-Roosevelt       0.0  \n",
       "1965-Johnson         0.0  \n",
       "\n",
       "[5 rows x 2158 columns]"
      ]
     },
     "execution_count": 57,
     "metadata": {},
     "output_type": "execute_result"
    }
   ],
   "source": [
    "# Inspect your matrix\n",
    "pd.DataFrame.sparse.from_spmatrix(tf(dtm),index=labels,columns=vocab).head()"
   ]
  },
  {
   "cell_type": "code",
   "execution_count": 58,
   "id": "97b606ee",
   "metadata": {
    "deletable": false,
    "editable": false,
    "nbgrader": {
     "cell_type": "code",
     "checksum": "4b962f7fd25cf7f6888f81da155e471d",
     "grade": true,
     "grade_id": "cell-b2c65f81a921e50b",
     "locked": true,
     "points": 1,
     "schema_version": 3,
     "solution": false,
     "task": false
    }
   },
   "outputs": [],
   "source": [
    "# Automatic tests\n",
    "_tf = tf(dtm)\n",
    "assert _tf.sum() < dtm.sum(), \"Weight sum has not decreased.\"\n",
    "assert (_tf > 0).sum() == (dtm > 0).sum(), \"Number of zeros must not change.\"\n",
    "assert (_tf[_tf > 0].min()) == 1, \"Scaling incorrect.\"\n",
    "assert _tf.dtype in [np.float32, np.float64, np.float16], \"Not using floating point.\"\n",
    "assert isinstance(_tf, scipy.sparse.csr_matrix), \"Not a sparse matrix anymore!\"\n",
    "# It is not allowed to only restore sparsity if it was lost.\n",
    "from unittest.mock import patch\n",
    "with patch('scipy.sparse.csr.csr_matrix') as mock_csr: tf(dtm)\n",
    "mock_csr.assert_not_called()\n",
    "del _tf"
   ]
  },
  {
   "cell_type": "markdown",
   "id": "a424e8cd",
   "metadata": {
    "deletable": false,
    "editable": false,
    "nbgrader": {
     "cell_type": "markdown",
     "checksum": "27def8267eae9e4d1b822f136c6feedc",
     "grade": false,
     "grade_id": "cell-bb839f352284f579",
     "locked": true,
     "schema_version": 3,
     "solution": false,
     "task": false
    }
   },
   "source": [
    "Implement the `idf` function."
   ]
  },
  {
   "cell_type": "code",
   "execution_count": 98,
   "id": "8e8a25f7",
   "metadata": {
    "deletable": false,
    "nbgrader": {
     "cell_type": "code",
     "checksum": "964c25f0133fa9eaf0df457bfe993303",
     "grade": false,
     "grade_id": "cell-6503b31d15a1af9b",
     "locked": false,
     "schema_version": 3,
     "solution": true,
     "task": false
    }
   },
   "outputs": [],
   "source": [
    "import math\n",
    "def idf(dtm):\n",
    "    \"\"\" Compute the \"t\" step inverse document frequency \"\"\"\n",
    "    # YOUR CODE HERE\n",
    "    dtm_float = dtm.astype(np.float32)\n",
    "    dtm_float = scipy.sparse.csr_matrix(dtm_float)\n",
    "    idfDict = {}\n",
    "    i = 0\n",
    "    for word in vocab:\n",
    "        idfDict[word] = dtm_float.getcol(i).count_nonzero()\n",
    "        i = i+1\n",
    "    N = len(labels)\n",
    "    arr = []\n",
    "    #idfDict = dict.fromkeys(docList[0].keys(), 0)\n",
    "    for word, val in idfDict.items():\n",
    "        arr.append(math.log10(N / (float(val))))\n",
    "    numpy_arr = np.array(arr)   \n",
    "    return numpy_arr"
   ]
  },
  {
   "cell_type": "code",
   "execution_count": 97,
   "id": "9c67eed5",
   "metadata": {},
   "outputs": [
    {
     "name": "stdout",
     "output_type": "stream",
     "text": [
      "(2158,)\n"
     ]
    },
    {
     "data": {
      "text/plain": [
       "array([0.98527674, 0.91832995, 1.06445799, ..., 0.86033801, 1.06445799,\n",
       "       0.98527674])"
      ]
     },
     "execution_count": 97,
     "metadata": {},
     "output_type": "execute_result"
    }
   ],
   "source": [
    "idf(dtm)"
   ]
  },
  {
   "cell_type": "code",
   "execution_count": 99,
   "id": "e7137860",
   "metadata": {},
   "outputs": [
    {
     "name": "stdout",
     "output_type": "stream",
     "text": [
      "[1.42138568 1.86321843 2.4510051  ... 1.57553636 2.4510051  2.26868354]\n",
      "[0.98527674 0.91832995 1.06445799 ... 0.86033801 1.06445799 0.98527674]\n"
     ]
    }
   ],
   "source": [
    "b=(np.ones((dtm.shape[0],)) @ dtm)\n",
    "print(np.log(dtm.shape[0] / b))\n",
    "print(idf(dtm))"
   ]
  },
  {
   "cell_type": "code",
   "execution_count": 100,
   "id": "5893f762",
   "metadata": {
    "deletable": false,
    "editable": false,
    "nbgrader": {
     "cell_type": "code",
     "checksum": "7d66aa485275620ae976ae1ccc4f4a6f",
     "grade": true,
     "grade_id": "cell-5c95bc2a42c0a885",
     "locked": true,
     "points": 1,
     "schema_version": 3,
     "solution": false,
     "task": false
    }
   },
   "outputs": [],
   "source": [
    "# Automatic tests\n",
    "_idf = idf(dtm)\n",
    "assert len(_idf.shape) == 1, \"Result must be one-dimensional.\"\n",
    "assert _idf.flatten().shape[0] == dtm.shape[1], \"The IDF dimension is not okay.\"\n",
    "assert _idf.dtype in [np.float32, np.float64, np.float16], \"Not using floating point.\"\n",
    "assert not isinstance(_idf, scipy.sparse.csr_matrix), \"IDF must not be sparse.\"\n",
    "assert _idf.min() > 0, \"IDF must not be zero here.\"\n",
    "assert _idf.max() < 3, \"Too large idf values.\"\n",
    "from unittest.mock import patch\n",
    "with patch('scipy.sparse.csr_matrix.todense') as mock_todense, patch('scipy.sparse.csr_matrix.toarray') as mock_toarray:\n",
    "    type(idf(dtm))\n",
    "mock_todense.assert_not_called()\n",
    "mock_toarray.assert_not_called()\n",
    "del _idf"
   ]
  },
  {
   "cell_type": "markdown",
   "id": "521d9792",
   "metadata": {
    "deletable": false,
    "editable": false,
    "nbgrader": {
     "cell_type": "markdown",
     "checksum": "0c49aff76d97a67701f46e5e99e3fe14",
     "grade": false,
     "grade_id": "cell-3c65f666ba451e70",
     "locked": true,
     "schema_version": 3,
     "solution": false,
     "task": false
    }
   },
   "source": [
    "Now implement the full `tfidf` function, using above implementations of `df` and `idf`.\n",
    "\n",
    "Hint: you may find `scipy.sparse.spdiags` useful to keep the computations *sparse*.\n",
    "\n",
    "You are **not allowed** to use sklearns `TfidfVectorizer`!"
   ]
  },
  {
   "cell_type": "code",
   "execution_count": 134,
   "id": "5ddc376a",
   "metadata": {
    "deletable": false,
    "nbgrader": {
     "cell_type": "code",
     "checksum": "2b60967a505a23c6fc1731604aa33317",
     "grade": false,
     "grade_id": "cell-8e543f615abb27f4",
     "locked": false,
     "schema_version": 3,
     "solution": true,
     "task": false
    }
   },
   "outputs": [],
   "source": [
    "def tfidf(dtm):\n",
    "    \"\"\"Finish the computation of standard TF-IDF with the c step\"\"\"\n",
    "    _tf, _idf = tf(dtm), idf(dtm) # Must use above functions.\n",
    "    # YOUR CODE HERE\n",
    "    df = pd.DataFrame.sparse.from_spmatrix(_tf,index=labels,columns=vocab)\n",
    "    i = 0\n",
    "    for column in df.columns:\n",
    "        df[column] = df[column] * _idf[i]\n",
    "        df[column] = df[column].astype(np.float32)\n",
    "        i = i+1\n",
    "    csr_mat = scipy.sparse.csr_matrix(df.values)\n",
    "    return csr_mat"
   ]
  },
  {
   "cell_type": "code",
   "execution_count": 135,
   "id": "2036217f",
   "metadata": {},
   "outputs": [
    {
     "data": {
      "text/plain": [
       "<58x2158 sparse matrix of type '<class 'numpy.float32'>'\n",
       "\twith 25164 stored elements in Compressed Sparse Row format>"
      ]
     },
     "execution_count": 135,
     "metadata": {},
     "output_type": "execute_result"
    }
   ],
   "source": [
    "tfidf(dtm)"
   ]
  },
  {
   "cell_type": "code",
   "execution_count": 136,
   "id": "ec77694a",
   "metadata": {
    "deletable": false,
    "editable": false,
    "nbgrader": {
     "cell_type": "code",
     "checksum": "dd3a678bc71fa04516812b2830070774",
     "grade": false,
     "grade_id": "cell-efc0715b6e7b9fbc",
     "locked": true,
     "schema_version": 3,
     "solution": false,
     "task": false
    }
   },
   "outputs": [
    {
     "data": {
      "text/html": [
       "<div>\n",
       "<style scoped>\n",
       "    .dataframe tbody tr th:only-of-type {\n",
       "        vertical-align: middle;\n",
       "    }\n",
       "\n",
       "    .dataframe tbody tr th {\n",
       "        vertical-align: top;\n",
       "    }\n",
       "\n",
       "    .dataframe thead th {\n",
       "        text-align: right;\n",
       "    }\n",
       "</style>\n",
       "<table border=\"1\" class=\"dataframe\">\n",
       "  <thead>\n",
       "    <tr style=\"text-align: right;\">\n",
       "      <th></th>\n",
       "      <th>fellow</th>\n",
       "      <th>citizens</th>\n",
       "      <th>presence</th>\n",
       "      <th>vast</th>\n",
       "      <th>countrymen</th>\n",
       "      <th>oath</th>\n",
       "      <th>shall</th>\n",
       "      <th>great</th>\n",
       "      <th>free</th>\n",
       "      <th>people</th>\n",
       "      <th>...</th>\n",
       "      <th>prominent</th>\n",
       "      <th>beneficial</th>\n",
       "      <th>weakened</th>\n",
       "      <th>glorious</th>\n",
       "      <th>feature</th>\n",
       "      <th>judicial</th>\n",
       "      <th>watching</th>\n",
       "      <th>influences</th>\n",
       "      <th>admission</th>\n",
       "      <th>supposed</th>\n",
       "    </tr>\n",
       "  </thead>\n",
       "  <tbody>\n",
       "    <tr>\n",
       "      <th>1885-Cleveland</th>\n",
       "      <td>0.0</td>\n",
       "      <td>0.91833</td>\n",
       "      <td>0.0</td>\n",
       "      <td>0.000000</td>\n",
       "      <td>0.0</td>\n",
       "      <td>0.000000</td>\n",
       "      <td>0.0</td>\n",
       "      <td>0.0</td>\n",
       "      <td>0.000000</td>\n",
       "      <td>0.000000</td>\n",
       "      <td>...</td>\n",
       "      <td>0.000000</td>\n",
       "      <td>0.0</td>\n",
       "      <td>0.421005</td>\n",
       "      <td>0.000000</td>\n",
       "      <td>0.0</td>\n",
       "      <td>0.0</td>\n",
       "      <td>0.000000</td>\n",
       "      <td>0.860338</td>\n",
       "      <td>0.0</td>\n",
       "      <td>0.0</td>\n",
       "    </tr>\n",
       "    <tr>\n",
       "      <th>1969-Nixon</th>\n",
       "      <td>0.0</td>\n",
       "      <td>0.00000</td>\n",
       "      <td>0.0</td>\n",
       "      <td>0.000000</td>\n",
       "      <td>0.0</td>\n",
       "      <td>0.000000</td>\n",
       "      <td>0.0</td>\n",
       "      <td>0.0</td>\n",
       "      <td>0.508155</td>\n",
       "      <td>0.000000</td>\n",
       "      <td>...</td>\n",
       "      <td>0.000000</td>\n",
       "      <td>0.0</td>\n",
       "      <td>0.421005</td>\n",
       "      <td>0.284166</td>\n",
       "      <td>0.0</td>\n",
       "      <td>0.0</td>\n",
       "      <td>0.000000</td>\n",
       "      <td>0.000000</td>\n",
       "      <td>0.0</td>\n",
       "      <td>0.0</td>\n",
       "    </tr>\n",
       "    <tr>\n",
       "      <th>1941-Roosevelt</th>\n",
       "      <td>0.0</td>\n",
       "      <td>0.00000</td>\n",
       "      <td>0.0</td>\n",
       "      <td>0.000000</td>\n",
       "      <td>0.0</td>\n",
       "      <td>0.000000</td>\n",
       "      <td>0.0</td>\n",
       "      <td>0.0</td>\n",
       "      <td>0.000000</td>\n",
       "      <td>0.000000</td>\n",
       "      <td>...</td>\n",
       "      <td>1.280286</td>\n",
       "      <td>0.0</td>\n",
       "      <td>0.421005</td>\n",
       "      <td>0.300233</td>\n",
       "      <td>0.0</td>\n",
       "      <td>0.0</td>\n",
       "      <td>0.000000</td>\n",
       "      <td>0.000000</td>\n",
       "      <td>0.0</td>\n",
       "      <td>0.0</td>\n",
       "    </tr>\n",
       "    <tr>\n",
       "      <th>1937-Roosevelt</th>\n",
       "      <td>0.0</td>\n",
       "      <td>0.91833</td>\n",
       "      <td>0.0</td>\n",
       "      <td>0.684247</td>\n",
       "      <td>0.0</td>\n",
       "      <td>0.508155</td>\n",
       "      <td>0.0</td>\n",
       "      <td>0.0</td>\n",
       "      <td>0.000000</td>\n",
       "      <td>1.064458</td>\n",
       "      <td>...</td>\n",
       "      <td>0.000000</td>\n",
       "      <td>0.0</td>\n",
       "      <td>0.421005</td>\n",
       "      <td>0.260012</td>\n",
       "      <td>0.0</td>\n",
       "      <td>0.0</td>\n",
       "      <td>0.000000</td>\n",
       "      <td>0.000000</td>\n",
       "      <td>0.0</td>\n",
       "      <td>0.0</td>\n",
       "    </tr>\n",
       "    <tr>\n",
       "      <th>1965-Johnson</th>\n",
       "      <td>0.0</td>\n",
       "      <td>0.91833</td>\n",
       "      <td>0.0</td>\n",
       "      <td>0.684247</td>\n",
       "      <td>0.0</td>\n",
       "      <td>0.000000</td>\n",
       "      <td>0.0</td>\n",
       "      <td>0.0</td>\n",
       "      <td>0.000000</td>\n",
       "      <td>0.000000</td>\n",
       "      <td>...</td>\n",
       "      <td>0.763428</td>\n",
       "      <td>0.0</td>\n",
       "      <td>0.000000</td>\n",
       "      <td>0.228039</td>\n",
       "      <td>0.0</td>\n",
       "      <td>0.0</td>\n",
       "      <td>0.559308</td>\n",
       "      <td>0.000000</td>\n",
       "      <td>0.0</td>\n",
       "      <td>0.0</td>\n",
       "    </tr>\n",
       "  </tbody>\n",
       "</table>\n",
       "<p>5 rows × 2158 columns</p>\n",
       "</div>"
      ],
      "text/plain": [
       "                fellow  citizens  presence      vast  countrymen      oath  \\\n",
       "1885-Cleveland     0.0   0.91833       0.0  0.000000         0.0  0.000000   \n",
       "1969-Nixon         0.0   0.00000       0.0  0.000000         0.0  0.000000   \n",
       "1941-Roosevelt     0.0   0.00000       0.0  0.000000         0.0  0.000000   \n",
       "1937-Roosevelt     0.0   0.91833       0.0  0.684247         0.0  0.508155   \n",
       "1965-Johnson       0.0   0.91833       0.0  0.684247         0.0  0.000000   \n",
       "\n",
       "                shall  great      free    people  ...  prominent  beneficial  \\\n",
       "1885-Cleveland    0.0    0.0  0.000000  0.000000  ...   0.000000         0.0   \n",
       "1969-Nixon        0.0    0.0  0.508155  0.000000  ...   0.000000         0.0   \n",
       "1941-Roosevelt    0.0    0.0  0.000000  0.000000  ...   1.280286         0.0   \n",
       "1937-Roosevelt    0.0    0.0  0.000000  1.064458  ...   0.000000         0.0   \n",
       "1965-Johnson      0.0    0.0  0.000000  0.000000  ...   0.763428         0.0   \n",
       "\n",
       "                weakened  glorious  feature  judicial  watching  influences  \\\n",
       "1885-Cleveland  0.421005  0.000000      0.0       0.0  0.000000    0.860338   \n",
       "1969-Nixon      0.421005  0.284166      0.0       0.0  0.000000    0.000000   \n",
       "1941-Roosevelt  0.421005  0.300233      0.0       0.0  0.000000    0.000000   \n",
       "1937-Roosevelt  0.421005  0.260012      0.0       0.0  0.000000    0.000000   \n",
       "1965-Johnson    0.000000  0.228039      0.0       0.0  0.559308    0.000000   \n",
       "\n",
       "                admission  supposed  \n",
       "1885-Cleveland        0.0       0.0  \n",
       "1969-Nixon            0.0       0.0  \n",
       "1941-Roosevelt        0.0       0.0  \n",
       "1937-Roosevelt        0.0       0.0  \n",
       "1965-Johnson          0.0       0.0  \n",
       "\n",
       "[5 rows x 2158 columns]"
      ]
     },
     "execution_count": 136,
     "metadata": {},
     "output_type": "execute_result"
    }
   ],
   "source": [
    "# Inspect your matrix\n",
    "pd.DataFrame.sparse.from_spmatrix(tfidf(dtm),index=labels,columns=vocab).head()"
   ]
  },
  {
   "cell_type": "code",
   "execution_count": 137,
   "id": "400d8b3f",
   "metadata": {
    "deletable": false,
    "editable": false,
    "nbgrader": {
     "cell_type": "code",
     "checksum": "44cda5eeed98b0e533db31996eae12c8",
     "grade": true,
     "grade_id": "cell-738b021a2edd333b",
     "locked": true,
     "points": 1,
     "schema_version": 3,
     "solution": false,
     "task": false
    }
   },
   "outputs": [
    {
     "ename": "AssertionError",
     "evalue": "Vectors are not 'c'.",
     "output_type": "error",
     "traceback": [
      "\u001b[0;31m---------------------------------------------------------------------------\u001b[0m",
      "\u001b[0;31mAssertionError\u001b[0m                            Traceback (most recent call last)",
      "Input \u001b[0;32mIn [137]\u001b[0m, in \u001b[0;36m<cell line: 4>\u001b[0;34m()\u001b[0m\n\u001b[1;32m      2\u001b[0m \u001b[38;5;28;01massert\u001b[39;00m _tfidf\u001b[38;5;241m.\u001b[39msum() \u001b[38;5;241m<\u001b[39m dtm\u001b[38;5;241m.\u001b[39msum(), \u001b[38;5;124m\"\u001b[39m\u001b[38;5;124mWeight sum has not decreased.\u001b[39m\u001b[38;5;124m\"\u001b[39m\n\u001b[1;32m      3\u001b[0m \u001b[38;5;28;01massert\u001b[39;00m (_tfidf \u001b[38;5;241m>\u001b[39m \u001b[38;5;241m0\u001b[39m)\u001b[38;5;241m.\u001b[39msum() \u001b[38;5;241m==\u001b[39m (dtm \u001b[38;5;241m>\u001b[39m \u001b[38;5;241m0\u001b[39m)\u001b[38;5;241m.\u001b[39msum(), \u001b[38;5;124m\"\u001b[39m\u001b[38;5;124mNumber of zeros must not change.\u001b[39m\u001b[38;5;124m\"\u001b[39m\n\u001b[0;32m----> 4\u001b[0m \u001b[38;5;28;01massert\u001b[39;00m \u001b[38;5;28mabs\u001b[39m(_tfidf\u001b[38;5;241m.\u001b[39mpower(\u001b[38;5;241m2\u001b[39m)\u001b[38;5;241m.\u001b[39msum() \u001b[38;5;241m-\u001b[39m _tfidf\u001b[38;5;241m.\u001b[39mshape[\u001b[38;5;241m0\u001b[39m]) \u001b[38;5;241m<\u001b[39m \u001b[38;5;241m1e-5\u001b[39m, \u001b[38;5;124m\"\u001b[39m\u001b[38;5;124mVectors are not \u001b[39m\u001b[38;5;124m'\u001b[39m\u001b[38;5;124mc\u001b[39m\u001b[38;5;124m'\u001b[39m\u001b[38;5;124m.\u001b[39m\u001b[38;5;124m\"\u001b[39m\n\u001b[1;32m      5\u001b[0m \u001b[38;5;28;01massert\u001b[39;00m _tfidf\u001b[38;5;241m.\u001b[39mdtype \u001b[38;5;129;01min\u001b[39;00m [np\u001b[38;5;241m.\u001b[39mfloat32, np\u001b[38;5;241m.\u001b[39mfloat64, np\u001b[38;5;241m.\u001b[39mfloat16], \u001b[38;5;124m\"\u001b[39m\u001b[38;5;124mNot using floating point.\u001b[39m\u001b[38;5;124m\"\u001b[39m\n",
      "\u001b[0;31mAssertionError\u001b[0m: Vectors are not 'c'."
     ]
    }
   ],
   "source": [
    "_tfidf = tfidf(dtm)\n",
    "assert _tfidf.sum() < dtm.sum(), \"Weight sum has not decreased.\"\n",
    "assert (_tfidf > 0).sum() == (dtm > 0).sum(), \"Number of zeros must not change.\"\n",
    "assert abs(_tfidf.power(2).sum() - _tfidf.shape[0]) < 1e-5, \"Vectors are not 'c'.\"\n",
    "assert _tfidf.dtype in [np.float32, np.float64, np.float16], \"Not using floating point.\""
   ]
  },
  {
   "cell_type": "code",
   "execution_count": 138,
   "id": "56f3e817",
   "metadata": {
    "deletable": false,
    "editable": false,
    "nbgrader": {
     "cell_type": "code",
     "checksum": "5f9a68644a013dbb98aea3635b5fadd9",
     "grade": true,
     "grade_id": "cell-9f38132bf12a44aa",
     "locked": true,
     "points": 1,
     "schema_version": 3,
     "solution": false,
     "task": false
    }
   },
   "outputs": [
    {
     "ename": "ValueError",
     "evalue": "Column length mismatch: 2158 vs. 0",
     "output_type": "error",
     "traceback": [
      "\u001b[0;31m---------------------------------------------------------------------------\u001b[0m",
      "\u001b[0;31mValueError\u001b[0m                                Traceback (most recent call last)",
      "Input \u001b[0;32mIn [138]\u001b[0m, in \u001b[0;36m<cell line: 2>\u001b[0;34m()\u001b[0m\n\u001b[1;32m      1\u001b[0m \u001b[38;5;28;01mfrom\u001b[39;00m \u001b[38;5;21;01munittest\u001b[39;00m\u001b[38;5;21;01m.\u001b[39;00m\u001b[38;5;21;01mmock\u001b[39;00m \u001b[38;5;28;01mimport\u001b[39;00m patch\n\u001b[1;32m      2\u001b[0m \u001b[38;5;28;01mwith\u001b[39;00m patch(\u001b[38;5;124m'\u001b[39m\u001b[38;5;124mscipy.sparse.csr_matrix.todense\u001b[39m\u001b[38;5;124m'\u001b[39m) \u001b[38;5;28;01mas\u001b[39;00m mock_todense, patch(\u001b[38;5;124m'\u001b[39m\u001b[38;5;124mscipy.sparse.csr_matrix.toarray\u001b[39m\u001b[38;5;124m'\u001b[39m) \u001b[38;5;28;01mas\u001b[39;00m mock_toarray:\n\u001b[0;32m----> 3\u001b[0m     \u001b[38;5;28;01massert\u001b[39;00m \u001b[38;5;28misinstance\u001b[39m(\u001b[43mtfidf\u001b[49m\u001b[43m(\u001b[49m\u001b[43mdtm\u001b[49m\u001b[43m)\u001b[49m, scipy\u001b[38;5;241m.\u001b[39msparse\u001b[38;5;241m.\u001b[39mcsr_matrix), \u001b[38;5;124m\"\u001b[39m\u001b[38;5;124mNot a sparse matrix anymore!\u001b[39m\u001b[38;5;124m\"\u001b[39m\n\u001b[1;32m      4\u001b[0m mock_todense\u001b[38;5;241m.\u001b[39massert_not_called()\n\u001b[1;32m      5\u001b[0m mock_toarray\u001b[38;5;241m.\u001b[39massert_not_called()\n",
      "Input \u001b[0;32mIn [134]\u001b[0m, in \u001b[0;36mtfidf\u001b[0;34m(dtm)\u001b[0m\n\u001b[1;32m      3\u001b[0m _tf, _idf \u001b[38;5;241m=\u001b[39m tf(dtm), idf(dtm) \u001b[38;5;66;03m# Must use above functions.\u001b[39;00m\n\u001b[1;32m      4\u001b[0m \u001b[38;5;66;03m# YOUR CODE HERE\u001b[39;00m\n\u001b[0;32m----> 5\u001b[0m df \u001b[38;5;241m=\u001b[39m \u001b[43mpd\u001b[49m\u001b[38;5;241;43m.\u001b[39;49m\u001b[43mDataFrame\u001b[49m\u001b[38;5;241;43m.\u001b[39;49m\u001b[43msparse\u001b[49m\u001b[38;5;241;43m.\u001b[39;49m\u001b[43mfrom_spmatrix\u001b[49m\u001b[43m(\u001b[49m\u001b[43m_tf\u001b[49m\u001b[43m,\u001b[49m\u001b[43mindex\u001b[49m\u001b[38;5;241;43m=\u001b[39;49m\u001b[43mlabels\u001b[49m\u001b[43m,\u001b[49m\u001b[43mcolumns\u001b[49m\u001b[38;5;241;43m=\u001b[39;49m\u001b[43mvocab\u001b[49m\u001b[43m)\u001b[49m\n\u001b[1;32m      6\u001b[0m i \u001b[38;5;241m=\u001b[39m \u001b[38;5;241m0\u001b[39m\n\u001b[1;32m      7\u001b[0m \u001b[38;5;28;01mfor\u001b[39;00m column \u001b[38;5;129;01min\u001b[39;00m df\u001b[38;5;241m.\u001b[39mcolumns:\n",
      "File \u001b[0;32m/usr/local/lib/python3.8/dist-packages/pandas/core/arrays/sparse/accessor.py:266\u001b[0m, in \u001b[0;36mSparseFrameAccessor.from_spmatrix\u001b[0;34m(cls, data, index, columns)\u001b[0m\n\u001b[1;32m    263\u001b[0m \u001b[38;5;28;01mfrom\u001b[39;00m \u001b[38;5;21;01mpandas\u001b[39;00m \u001b[38;5;28;01mimport\u001b[39;00m DataFrame\n\u001b[1;32m    265\u001b[0m data \u001b[38;5;241m=\u001b[39m data\u001b[38;5;241m.\u001b[39mtocsc()\n\u001b[0;32m--> 266\u001b[0m index, columns \u001b[38;5;241m=\u001b[39m \u001b[38;5;28;43mcls\u001b[39;49m\u001b[38;5;241;43m.\u001b[39;49m\u001b[43m_prep_index\u001b[49m\u001b[43m(\u001b[49m\u001b[43mdata\u001b[49m\u001b[43m,\u001b[49m\u001b[43m \u001b[49m\u001b[43mindex\u001b[49m\u001b[43m,\u001b[49m\u001b[43m \u001b[49m\u001b[43mcolumns\u001b[49m\u001b[43m)\u001b[49m\n\u001b[1;32m    267\u001b[0m n_rows, n_columns \u001b[38;5;241m=\u001b[39m data\u001b[38;5;241m.\u001b[39mshape\n\u001b[1;32m    268\u001b[0m \u001b[38;5;66;03m# We need to make sure indices are sorted, as we create\u001b[39;00m\n\u001b[1;32m    269\u001b[0m \u001b[38;5;66;03m# IntIndex with no input validation (i.e. check_integrity=False ).\u001b[39;00m\n\u001b[1;32m    270\u001b[0m \u001b[38;5;66;03m# Indices may already be sorted in scipy in which case this adds\u001b[39;00m\n\u001b[1;32m    271\u001b[0m \u001b[38;5;66;03m# a small overhead.\u001b[39;00m\n",
      "File \u001b[0;32m/usr/local/lib/python3.8/dist-packages/pandas/core/arrays/sparse/accessor.py:383\u001b[0m, in \u001b[0;36mSparseFrameAccessor._prep_index\u001b[0;34m(data, index, columns)\u001b[0m\n\u001b[1;32m    380\u001b[0m     columns \u001b[38;5;241m=\u001b[39m ensure_index(columns)\n\u001b[1;32m    382\u001b[0m \u001b[38;5;28;01mif\u001b[39;00m \u001b[38;5;28mlen\u001b[39m(columns) \u001b[38;5;241m!=\u001b[39m K:\n\u001b[0;32m--> 383\u001b[0m     \u001b[38;5;28;01mraise\u001b[39;00m \u001b[38;5;167;01mValueError\u001b[39;00m(\u001b[38;5;124mf\u001b[39m\u001b[38;5;124m\"\u001b[39m\u001b[38;5;124mColumn length mismatch: \u001b[39m\u001b[38;5;132;01m{\u001b[39;00m\u001b[38;5;28mlen\u001b[39m(columns)\u001b[38;5;132;01m}\u001b[39;00m\u001b[38;5;124m vs. \u001b[39m\u001b[38;5;132;01m{\u001b[39;00mK\u001b[38;5;132;01m}\u001b[39;00m\u001b[38;5;124m\"\u001b[39m)\n\u001b[1;32m    384\u001b[0m \u001b[38;5;28;01mif\u001b[39;00m \u001b[38;5;28mlen\u001b[39m(index) \u001b[38;5;241m!=\u001b[39m N:\n\u001b[1;32m    385\u001b[0m     \u001b[38;5;28;01mraise\u001b[39;00m \u001b[38;5;167;01mValueError\u001b[39;00m(\u001b[38;5;124mf\u001b[39m\u001b[38;5;124m\"\u001b[39m\u001b[38;5;124mIndex length mismatch: \u001b[39m\u001b[38;5;132;01m{\u001b[39;00m\u001b[38;5;28mlen\u001b[39m(index)\u001b[38;5;132;01m}\u001b[39;00m\u001b[38;5;124m vs. \u001b[39m\u001b[38;5;132;01m{\u001b[39;00mN\u001b[38;5;132;01m}\u001b[39;00m\u001b[38;5;124m\"\u001b[39m)\n",
      "\u001b[0;31mValueError\u001b[0m: Column length mismatch: 2158 vs. 0"
     ]
    }
   ],
   "source": [
    "from unittest.mock import patch\n",
    "with patch('scipy.sparse.csr_matrix.todense') as mock_todense, patch('scipy.sparse.csr_matrix.toarray') as mock_toarray:\n",
    "    assert isinstance(tfidf(dtm), scipy.sparse.csr_matrix), \"Not a sparse matrix anymore!\"\n",
    "mock_todense.assert_not_called()\n",
    "mock_toarray.assert_not_called()"
   ]
  },
  {
   "cell_type": "markdown",
   "id": "5579dce7",
   "metadata": {
    "deletable": false,
    "editable": false,
    "nbgrader": {
     "cell_type": "markdown",
     "checksum": "a3cce83b3ac06c57e104183847b9e05a",
     "grade": false,
     "grade_id": "cell-c03f60fc44f715db",
     "locked": true,
     "schema_version": 3,
     "solution": false,
     "task": false
    }
   },
   "source": [
    "# Compare to sklearn\n",
    "\n",
    "Now you are allowed to use `TfidfVectorizer`!\n",
    "\n",
    "Use sklearns `TfidfVectorizer` (make sure to choose parameters appropriately). Compare the results."
   ]
  },
  {
   "cell_type": "code",
   "execution_count": 156,
   "id": "1d17c073",
   "metadata": {
    "deletable": false,
    "nbgrader": {
     "cell_type": "code",
     "checksum": "f85832a1736a887e5615508e6c702124",
     "grade": false,
     "grade_id": "cell-0b0f07f571d3b7ff",
     "locked": false,
     "schema_version": 3,
     "solution": true,
     "task": false
    }
   },
   "outputs": [],
   "source": [
    "from sklearn.feature_extraction.text import TfidfVectorizer\n",
    "# set appropriate parameters!\n",
    "sktfidf = None # Store the TF-IDF result obtained via sklearn\n",
    "skvocab = None # The vocabulary\n",
    "# YOUR CODE HERE\n",
    "tvect=TfidfVectorizer(stop_words='english', min_df=5)\n",
    "sktfidf=tvect.fit_transform(speeches)\n",
    "skvocab = tvect.vocabulary_"
   ]
  },
  {
   "cell_type": "code",
   "execution_count": 157,
   "id": "0efbbf5d",
   "metadata": {
    "deletable": false,
    "editable": false,
    "nbgrader": {
     "cell_type": "code",
     "checksum": "8a2a40d1699746804bb8d3282af4243c",
     "grade": false,
     "grade_id": "cell-e029911a279ed4a2",
     "locked": true,
     "schema_version": 3,
     "solution": false,
     "task": false
    },
    "scrolled": true
   },
   "outputs": [
    {
     "data": {
      "text/html": [
       "<div>\n",
       "<style scoped>\n",
       "    .dataframe tbody tr th:only-of-type {\n",
       "        vertical-align: middle;\n",
       "    }\n",
       "\n",
       "    .dataframe tbody tr th {\n",
       "        vertical-align: top;\n",
       "    }\n",
       "\n",
       "    .dataframe thead th {\n",
       "        text-align: right;\n",
       "    }\n",
       "</style>\n",
       "<table border=\"1\" class=\"dataframe\">\n",
       "  <thead>\n",
       "    <tr style=\"text-align: right;\">\n",
       "      <th></th>\n",
       "      <th>fellow</th>\n",
       "      <th>citizens</th>\n",
       "      <th>presence</th>\n",
       "      <th>vast</th>\n",
       "      <th>countrymen</th>\n",
       "      <th>oath</th>\n",
       "      <th>shall</th>\n",
       "      <th>great</th>\n",
       "      <th>free</th>\n",
       "      <th>people</th>\n",
       "      <th>...</th>\n",
       "      <th>prominent</th>\n",
       "      <th>beneficial</th>\n",
       "      <th>weakened</th>\n",
       "      <th>glorious</th>\n",
       "      <th>feature</th>\n",
       "      <th>judicial</th>\n",
       "      <th>watching</th>\n",
       "      <th>influences</th>\n",
       "      <th>admission</th>\n",
       "      <th>supposed</th>\n",
       "    </tr>\n",
       "  </thead>\n",
       "  <tbody>\n",
       "    <tr>\n",
       "      <th>1885-Cleveland</th>\n",
       "      <td>0.0</td>\n",
       "      <td>0.040356</td>\n",
       "      <td>0.0</td>\n",
       "      <td>0.000000</td>\n",
       "      <td>0.0</td>\n",
       "      <td>0.000000</td>\n",
       "      <td>0.0</td>\n",
       "      <td>0.0</td>\n",
       "      <td>0.000000</td>\n",
       "      <td>0.000000</td>\n",
       "      <td>...</td>\n",
       "      <td>0.000000</td>\n",
       "      <td>0.0</td>\n",
       "      <td>0.026141</td>\n",
       "      <td>0.000000</td>\n",
       "      <td>0.0</td>\n",
       "      <td>0.0</td>\n",
       "      <td>0.000000</td>\n",
       "      <td>0.038771</td>\n",
       "      <td>0.0</td>\n",
       "      <td>0.0</td>\n",
       "    </tr>\n",
       "    <tr>\n",
       "      <th>1969-Nixon</th>\n",
       "      <td>0.0</td>\n",
       "      <td>0.000000</td>\n",
       "      <td>0.0</td>\n",
       "      <td>0.000000</td>\n",
       "      <td>0.0</td>\n",
       "      <td>0.000000</td>\n",
       "      <td>0.0</td>\n",
       "      <td>0.0</td>\n",
       "      <td>0.024069</td>\n",
       "      <td>0.000000</td>\n",
       "      <td>...</td>\n",
       "      <td>0.000000</td>\n",
       "      <td>0.0</td>\n",
       "      <td>0.021913</td>\n",
       "      <td>0.070461</td>\n",
       "      <td>0.0</td>\n",
       "      <td>0.0</td>\n",
       "      <td>0.000000</td>\n",
       "      <td>0.000000</td>\n",
       "      <td>0.0</td>\n",
       "      <td>0.0</td>\n",
       "    </tr>\n",
       "    <tr>\n",
       "      <th>1941-Roosevelt</th>\n",
       "      <td>0.0</td>\n",
       "      <td>0.000000</td>\n",
       "      <td>0.0</td>\n",
       "      <td>0.000000</td>\n",
       "      <td>0.0</td>\n",
       "      <td>0.000000</td>\n",
       "      <td>0.0</td>\n",
       "      <td>0.0</td>\n",
       "      <td>0.000000</td>\n",
       "      <td>0.000000</td>\n",
       "      <td>...</td>\n",
       "      <td>0.085117</td>\n",
       "      <td>0.0</td>\n",
       "      <td>0.030844</td>\n",
       "      <td>0.119010</td>\n",
       "      <td>0.0</td>\n",
       "      <td>0.0</td>\n",
       "      <td>0.000000</td>\n",
       "      <td>0.000000</td>\n",
       "      <td>0.0</td>\n",
       "      <td>0.0</td>\n",
       "    </tr>\n",
       "    <tr>\n",
       "      <th>1937-Roosevelt</th>\n",
       "      <td>0.0</td>\n",
       "      <td>0.037874</td>\n",
       "      <td>0.0</td>\n",
       "      <td>0.031740</td>\n",
       "      <td>0.0</td>\n",
       "      <td>0.026946</td>\n",
       "      <td>0.0</td>\n",
       "      <td>0.0</td>\n",
       "      <td>0.000000</td>\n",
       "      <td>0.041508</td>\n",
       "      <td>...</td>\n",
       "      <td>0.000000</td>\n",
       "      <td>0.0</td>\n",
       "      <td>0.024533</td>\n",
       "      <td>0.063107</td>\n",
       "      <td>0.0</td>\n",
       "      <td>0.0</td>\n",
       "      <td>0.000000</td>\n",
       "      <td>0.000000</td>\n",
       "      <td>0.0</td>\n",
       "      <td>0.0</td>\n",
       "    </tr>\n",
       "    <tr>\n",
       "      <th>1965-Johnson</th>\n",
       "      <td>0.0</td>\n",
       "      <td>0.046402</td>\n",
       "      <td>0.0</td>\n",
       "      <td>0.038888</td>\n",
       "      <td>0.0</td>\n",
       "      <td>0.000000</td>\n",
       "      <td>0.0</td>\n",
       "      <td>0.0</td>\n",
       "      <td>0.000000</td>\n",
       "      <td>0.000000</td>\n",
       "      <td>...</td>\n",
       "      <td>0.041473</td>\n",
       "      <td>0.0</td>\n",
       "      <td>0.000000</td>\n",
       "      <td>0.057988</td>\n",
       "      <td>0.0</td>\n",
       "      <td>0.0</td>\n",
       "      <td>0.034736</td>\n",
       "      <td>0.000000</td>\n",
       "      <td>0.0</td>\n",
       "      <td>0.0</td>\n",
       "    </tr>\n",
       "  </tbody>\n",
       "</table>\n",
       "<p>5 rows × 2158 columns</p>\n",
       "</div>"
      ],
      "text/plain": [
       "                fellow  citizens  presence      vast  countrymen      oath  \\\n",
       "1885-Cleveland     0.0  0.040356       0.0  0.000000         0.0  0.000000   \n",
       "1969-Nixon         0.0  0.000000       0.0  0.000000         0.0  0.000000   \n",
       "1941-Roosevelt     0.0  0.000000       0.0  0.000000         0.0  0.000000   \n",
       "1937-Roosevelt     0.0  0.037874       0.0  0.031740         0.0  0.026946   \n",
       "1965-Johnson       0.0  0.046402       0.0  0.038888         0.0  0.000000   \n",
       "\n",
       "                shall  great      free    people  ...  prominent  beneficial  \\\n",
       "1885-Cleveland    0.0    0.0  0.000000  0.000000  ...   0.000000         0.0   \n",
       "1969-Nixon        0.0    0.0  0.024069  0.000000  ...   0.000000         0.0   \n",
       "1941-Roosevelt    0.0    0.0  0.000000  0.000000  ...   0.085117         0.0   \n",
       "1937-Roosevelt    0.0    0.0  0.000000  0.041508  ...   0.000000         0.0   \n",
       "1965-Johnson      0.0    0.0  0.000000  0.000000  ...   0.041473         0.0   \n",
       "\n",
       "                weakened  glorious  feature  judicial  watching  influences  \\\n",
       "1885-Cleveland  0.026141  0.000000      0.0       0.0  0.000000    0.038771   \n",
       "1969-Nixon      0.021913  0.070461      0.0       0.0  0.000000    0.000000   \n",
       "1941-Roosevelt  0.030844  0.119010      0.0       0.0  0.000000    0.000000   \n",
       "1937-Roosevelt  0.024533  0.063107      0.0       0.0  0.000000    0.000000   \n",
       "1965-Johnson    0.000000  0.057988      0.0       0.0  0.034736    0.000000   \n",
       "\n",
       "                admission  supposed  \n",
       "1885-Cleveland        0.0       0.0  \n",
       "1969-Nixon            0.0       0.0  \n",
       "1941-Roosevelt        0.0       0.0  \n",
       "1937-Roosevelt        0.0       0.0  \n",
       "1965-Johnson          0.0       0.0  \n",
       "\n",
       "[5 rows x 2158 columns]"
      ]
     },
     "execution_count": 157,
     "metadata": {},
     "output_type": "execute_result"
    }
   ],
   "source": [
    "# Pretty display the data with pandas:\n",
    "pd.DataFrame.sparse.from_spmatrix(sktfidf,index=labels,columns=skvocab).head()"
   ]
  },
  {
   "cell_type": "code",
   "execution_count": 169,
   "id": "c98ab063",
   "metadata": {},
   "outputs": [
    {
     "data": {
      "text/plain": [
       "True"
      ]
     },
     "execution_count": 169,
     "metadata": {},
     "output_type": "execute_result"
    }
   ],
   "source": [
    "skvocab == vocab"
   ]
  },
  {
   "cell_type": "code",
   "execution_count": 168,
   "id": "c1592d74",
   "metadata": {
    "deletable": false,
    "editable": false,
    "nbgrader": {
     "cell_type": "code",
     "checksum": "71481abcbd33d985efcd9e197837ee8a",
     "grade": true,
     "grade_id": "cell-06545facc587412d",
     "locked": true,
     "points": 1,
     "schema_version": 3,
     "solution": false,
     "task": false
    }
   },
   "outputs": [
    {
     "ename": "TypeError",
     "evalue": "'bool' object is not iterable",
     "output_type": "error",
     "traceback": [
      "\u001b[0;31m---------------------------------------------------------------------------\u001b[0m",
      "\u001b[0;31mTypeError\u001b[0m                                 Traceback (most recent call last)",
      "Input \u001b[0;32mIn [168]\u001b[0m, in \u001b[0;36m<cell line: 1>\u001b[0;34m()\u001b[0m\n\u001b[0;32m----> 1\u001b[0m \u001b[38;5;28;01massert\u001b[39;00m \u001b[38;5;28;43mall\u001b[39;49m\u001b[43m(\u001b[49m\u001b[43mskvocab\u001b[49m\u001b[43m \u001b[49m\u001b[38;5;241;43m==\u001b[39;49m\u001b[43m \u001b[49m\u001b[43mvocab\u001b[49m\u001b[43m)\u001b[49m, \u001b[38;5;124m\"\u001b[39m\u001b[38;5;124mYou did not use use same parameters as above.\u001b[39m\u001b[38;5;124m\"\u001b[39m\n\u001b[1;32m      2\u001b[0m \u001b[38;5;28;01massert\u001b[39;00m sktfidf\u001b[38;5;241m.\u001b[39mshape \u001b[38;5;241m==\u001b[39m dtm\u001b[38;5;241m.\u001b[39mshape, \u001b[38;5;124m\"\u001b[39m\u001b[38;5;124mMatrix shapes do not agree.\u001b[39m\u001b[38;5;124m\"\u001b[39m\n\u001b[1;32m      3\u001b[0m \u001b[38;5;28;01massert\u001b[39;00m (sktfidf \u001b[38;5;241m>\u001b[39m \u001b[38;5;241m0\u001b[39m)\u001b[38;5;241m.\u001b[39msum() \u001b[38;5;241m==\u001b[39m (dtm \u001b[38;5;241m>\u001b[39m \u001b[38;5;241m0\u001b[39m)\u001b[38;5;241m.\u001b[39msum(), \u001b[38;5;124m\"\u001b[39m\u001b[38;5;124mSparsity must not change.\u001b[39m\u001b[38;5;124m\"\u001b[39m\n",
      "\u001b[0;31mTypeError\u001b[0m: 'bool' object is not iterable"
     ]
    }
   ],
   "source": [
    "assert all(skvocab == vocab), \"You did not use use same parameters as above.\"\n",
    "assert sktfidf.shape == dtm.shape, \"Matrix shapes do not agree.\"\n",
    "assert (sktfidf > 0).sum() == (dtm > 0).sum(), \"Sparsity must not change.\"\n",
    "assert abs(sktfidf.power(2).sum() - sktfidf.shape[0]) < 1e-7, \"Vectors are not 'c'.\"\n",
    "assert isinstance(sktfidf, scipy.sparse.csr_matrix), \"Not a sparse matrix anymore!\"\n",
    "assert sktfidf.dtype in [np.float32, np.float64, np.float16], \"Not using floating point.\""
   ]
  },
  {
   "cell_type": "markdown",
   "id": "c726c254",
   "metadata": {
    "deletable": false,
    "editable": false,
    "nbgrader": {
     "cell_type": "markdown",
     "checksum": "96615a622e9386a7758f054d77757f58",
     "grade": false,
     "grade_id": "cell-daae1edeb55afdeb",
     "locked": true,
     "schema_version": 3,
     "solution": false,
     "task": false
    }
   },
   "source": [
    "# Understand the difference\n",
    "\n",
    "By visual inspection of the two matrixes, you will notice that they do *not* agree.\n",
    "\n",
    "Check the [bug reports of scikit-learn](https://github.com/scikit-learn/scikit-learn/issues?q=is%3Aissue+tf-idf+is%3Aopen) for related bug reports, and check the scikit-learn documentation *carefully* to figure out the difference.\n",
    "\n",
    "Is it better or worse? We don't know. But scikit-learn does not implement the standard approach!\n",
    "\n",
    "But: we can easily \"hack\" sklearn to produce the desired result.\n",
    "\n",
    "Hint: Use `fit`, adjust the vectorizer, and `tranform` separately."
   ]
  },
  {
   "cell_type": "code",
   "execution_count": 171,
   "id": "32c5921c",
   "metadata": {
    "deletable": false,
    "nbgrader": {
     "cell_type": "code",
     "checksum": "251444173b738d1f91e7c69d2e64a4a6",
     "grade": false,
     "grade_id": "cell-2ea02c1825ef9793",
     "locked": false,
     "schema_version": 3,
     "solution": true,
     "task": false
    }
   },
   "outputs": [],
   "source": [
    "# Work around this issue in scikit-learn\n",
    "# set appropriate parameters!\n",
    "sktfidf2 = None # Store the TF-IDF result obtained via sklearn\n",
    "skvocab2 = None # The vocabulary\n",
    "# Use fit(), adjust as necessary, transform() to get the desired result!\n",
    "# YOUR CODE HERE\n",
    "tvect2=TfidfVectorizer(stop_words='english', min_df=5)\n",
    "sktfidf1=tvect.fit(speeches)\n",
    "sktfidf2 = sktfidf1.transform(speeches)\n",
    "skvocab = sktfidf1.vocabulary_"
   ]
  },
  {
   "cell_type": "code",
   "execution_count": 172,
   "id": "d81906ba",
   "metadata": {
    "deletable": false,
    "editable": false,
    "nbgrader": {
     "cell_type": "code",
     "checksum": "3b803c37e62bd6c9662d17127cc96760",
     "grade": false,
     "grade_id": "cell-00bb21a20d06a485",
     "locked": true,
     "schema_version": 3,
     "solution": false,
     "task": false
    }
   },
   "outputs": [
    {
     "data": {
      "text/html": [
       "<div>\n",
       "<style scoped>\n",
       "    .dataframe tbody tr th:only-of-type {\n",
       "        vertical-align: middle;\n",
       "    }\n",
       "\n",
       "    .dataframe tbody tr th {\n",
       "        vertical-align: top;\n",
       "    }\n",
       "\n",
       "    .dataframe thead th {\n",
       "        text-align: right;\n",
       "    }\n",
       "</style>\n",
       "<table border=\"1\" class=\"dataframe\">\n",
       "  <thead>\n",
       "    <tr style=\"text-align: right;\">\n",
       "      <th></th>\n",
       "      <th>0</th>\n",
       "      <th>1</th>\n",
       "      <th>2</th>\n",
       "      <th>3</th>\n",
       "      <th>4</th>\n",
       "      <th>5</th>\n",
       "      <th>6</th>\n",
       "      <th>7</th>\n",
       "      <th>8</th>\n",
       "      <th>9</th>\n",
       "      <th>...</th>\n",
       "      <th>2148</th>\n",
       "      <th>2149</th>\n",
       "      <th>2150</th>\n",
       "      <th>2151</th>\n",
       "      <th>2152</th>\n",
       "      <th>2153</th>\n",
       "      <th>2154</th>\n",
       "      <th>2155</th>\n",
       "      <th>2156</th>\n",
       "      <th>2157</th>\n",
       "    </tr>\n",
       "  </thead>\n",
       "  <tbody>\n",
       "    <tr>\n",
       "      <th>1885-Cleveland</th>\n",
       "      <td>0.0</td>\n",
       "      <td>0.040356</td>\n",
       "      <td>0.0</td>\n",
       "      <td>0.000000</td>\n",
       "      <td>0.0</td>\n",
       "      <td>0.000000</td>\n",
       "      <td>0.0</td>\n",
       "      <td>0.0</td>\n",
       "      <td>0.000000</td>\n",
       "      <td>0.000000</td>\n",
       "      <td>...</td>\n",
       "      <td>0.000000</td>\n",
       "      <td>0.0</td>\n",
       "      <td>0.026141</td>\n",
       "      <td>0.000000</td>\n",
       "      <td>0.0</td>\n",
       "      <td>0.0</td>\n",
       "      <td>0.000000</td>\n",
       "      <td>0.038771</td>\n",
       "      <td>0.0</td>\n",
       "      <td>0.0</td>\n",
       "    </tr>\n",
       "    <tr>\n",
       "      <th>1969-Nixon</th>\n",
       "      <td>0.0</td>\n",
       "      <td>0.000000</td>\n",
       "      <td>0.0</td>\n",
       "      <td>0.000000</td>\n",
       "      <td>0.0</td>\n",
       "      <td>0.000000</td>\n",
       "      <td>0.0</td>\n",
       "      <td>0.0</td>\n",
       "      <td>0.024069</td>\n",
       "      <td>0.000000</td>\n",
       "      <td>...</td>\n",
       "      <td>0.000000</td>\n",
       "      <td>0.0</td>\n",
       "      <td>0.021913</td>\n",
       "      <td>0.070461</td>\n",
       "      <td>0.0</td>\n",
       "      <td>0.0</td>\n",
       "      <td>0.000000</td>\n",
       "      <td>0.000000</td>\n",
       "      <td>0.0</td>\n",
       "      <td>0.0</td>\n",
       "    </tr>\n",
       "    <tr>\n",
       "      <th>1941-Roosevelt</th>\n",
       "      <td>0.0</td>\n",
       "      <td>0.000000</td>\n",
       "      <td>0.0</td>\n",
       "      <td>0.000000</td>\n",
       "      <td>0.0</td>\n",
       "      <td>0.000000</td>\n",
       "      <td>0.0</td>\n",
       "      <td>0.0</td>\n",
       "      <td>0.000000</td>\n",
       "      <td>0.000000</td>\n",
       "      <td>...</td>\n",
       "      <td>0.085117</td>\n",
       "      <td>0.0</td>\n",
       "      <td>0.030844</td>\n",
       "      <td>0.119010</td>\n",
       "      <td>0.0</td>\n",
       "      <td>0.0</td>\n",
       "      <td>0.000000</td>\n",
       "      <td>0.000000</td>\n",
       "      <td>0.0</td>\n",
       "      <td>0.0</td>\n",
       "    </tr>\n",
       "    <tr>\n",
       "      <th>1937-Roosevelt</th>\n",
       "      <td>0.0</td>\n",
       "      <td>0.037874</td>\n",
       "      <td>0.0</td>\n",
       "      <td>0.031740</td>\n",
       "      <td>0.0</td>\n",
       "      <td>0.026946</td>\n",
       "      <td>0.0</td>\n",
       "      <td>0.0</td>\n",
       "      <td>0.000000</td>\n",
       "      <td>0.041508</td>\n",
       "      <td>...</td>\n",
       "      <td>0.000000</td>\n",
       "      <td>0.0</td>\n",
       "      <td>0.024533</td>\n",
       "      <td>0.063107</td>\n",
       "      <td>0.0</td>\n",
       "      <td>0.0</td>\n",
       "      <td>0.000000</td>\n",
       "      <td>0.000000</td>\n",
       "      <td>0.0</td>\n",
       "      <td>0.0</td>\n",
       "    </tr>\n",
       "    <tr>\n",
       "      <th>1965-Johnson</th>\n",
       "      <td>0.0</td>\n",
       "      <td>0.046402</td>\n",
       "      <td>0.0</td>\n",
       "      <td>0.038888</td>\n",
       "      <td>0.0</td>\n",
       "      <td>0.000000</td>\n",
       "      <td>0.0</td>\n",
       "      <td>0.0</td>\n",
       "      <td>0.000000</td>\n",
       "      <td>0.000000</td>\n",
       "      <td>...</td>\n",
       "      <td>0.041473</td>\n",
       "      <td>0.0</td>\n",
       "      <td>0.000000</td>\n",
       "      <td>0.057988</td>\n",
       "      <td>0.0</td>\n",
       "      <td>0.0</td>\n",
       "      <td>0.034736</td>\n",
       "      <td>0.000000</td>\n",
       "      <td>0.0</td>\n",
       "      <td>0.0</td>\n",
       "    </tr>\n",
       "  </tbody>\n",
       "</table>\n",
       "<p>5 rows × 2158 columns</p>\n",
       "</div>"
      ],
      "text/plain": [
       "                0         1     2         3     4         5     6     7     \\\n",
       "1885-Cleveland   0.0  0.040356   0.0  0.000000   0.0  0.000000   0.0   0.0   \n",
       "1969-Nixon       0.0  0.000000   0.0  0.000000   0.0  0.000000   0.0   0.0   \n",
       "1941-Roosevelt   0.0  0.000000   0.0  0.000000   0.0  0.000000   0.0   0.0   \n",
       "1937-Roosevelt   0.0  0.037874   0.0  0.031740   0.0  0.026946   0.0   0.0   \n",
       "1965-Johnson     0.0  0.046402   0.0  0.038888   0.0  0.000000   0.0   0.0   \n",
       "\n",
       "                    8         9     ...      2148  2149      2150      2151  \\\n",
       "1885-Cleveland  0.000000  0.000000  ...  0.000000   0.0  0.026141  0.000000   \n",
       "1969-Nixon      0.024069  0.000000  ...  0.000000   0.0  0.021913  0.070461   \n",
       "1941-Roosevelt  0.000000  0.000000  ...  0.085117   0.0  0.030844  0.119010   \n",
       "1937-Roosevelt  0.000000  0.041508  ...  0.000000   0.0  0.024533  0.063107   \n",
       "1965-Johnson    0.000000  0.000000  ...  0.041473   0.0  0.000000  0.057988   \n",
       "\n",
       "                2152  2153      2154      2155  2156  2157  \n",
       "1885-Cleveland   0.0   0.0  0.000000  0.038771   0.0   0.0  \n",
       "1969-Nixon       0.0   0.0  0.000000  0.000000   0.0   0.0  \n",
       "1941-Roosevelt   0.0   0.0  0.000000  0.000000   0.0   0.0  \n",
       "1937-Roosevelt   0.0   0.0  0.000000  0.000000   0.0   0.0  \n",
       "1965-Johnson     0.0   0.0  0.034736  0.000000   0.0   0.0  \n",
       "\n",
       "[5 rows x 2158 columns]"
      ]
     },
     "execution_count": 172,
     "metadata": {},
     "output_type": "execute_result"
    }
   ],
   "source": [
    "# Pretty display the data with pandas:\n",
    "pd.DataFrame.sparse.from_spmatrix(sktfidf2,index=labels,columns=skvocab2).head()"
   ]
  },
  {
   "cell_type": "code",
   "execution_count": 173,
   "id": "ef29c57a",
   "metadata": {
    "deletable": false,
    "editable": false,
    "nbgrader": {
     "cell_type": "code",
     "checksum": "a0e0fee2ccb483f783bd871e26e6f9cf",
     "grade": true,
     "grade_id": "cell-ee90960893b6602f",
     "locked": true,
     "points": 1,
     "schema_version": 3,
     "solution": false,
     "task": false
    },
    "scrolled": true
   },
   "outputs": [
    {
     "ename": "TypeError",
     "evalue": "'bool' object is not iterable",
     "output_type": "error",
     "traceback": [
      "\u001b[0;31m---------------------------------------------------------------------------\u001b[0m",
      "\u001b[0;31mTypeError\u001b[0m                                 Traceback (most recent call last)",
      "Input \u001b[0;32mIn [173]\u001b[0m, in \u001b[0;36m<cell line: 1>\u001b[0;34m()\u001b[0m\n\u001b[0;32m----> 1\u001b[0m \u001b[38;5;28;01massert\u001b[39;00m \u001b[38;5;28;43mall\u001b[39;49m\u001b[43m(\u001b[49m\u001b[43mskvocab2\u001b[49m\u001b[43m \u001b[49m\u001b[38;5;241;43m==\u001b[39;49m\u001b[43m \u001b[49m\u001b[43mvocab\u001b[49m\u001b[43m)\u001b[49m, \u001b[38;5;124m\"\u001b[39m\u001b[38;5;124mYou did not use use same parameters as above.\u001b[39m\u001b[38;5;124m\"\u001b[39m\n\u001b[1;32m      2\u001b[0m \u001b[38;5;28;01massert\u001b[39;00m sktfidf2\u001b[38;5;241m.\u001b[39mshape \u001b[38;5;241m==\u001b[39m dtm\u001b[38;5;241m.\u001b[39mshape, \u001b[38;5;124m\"\u001b[39m\u001b[38;5;124mMatrix shapes do not agree.\u001b[39m\u001b[38;5;124m\"\u001b[39m\n\u001b[1;32m      3\u001b[0m \u001b[38;5;28;01massert\u001b[39;00m (sktfidf2 \u001b[38;5;241m>\u001b[39m \u001b[38;5;241m0\u001b[39m)\u001b[38;5;241m.\u001b[39msum() \u001b[38;5;241m==\u001b[39m (dtm \u001b[38;5;241m>\u001b[39m \u001b[38;5;241m0\u001b[39m)\u001b[38;5;241m.\u001b[39msum(), \u001b[38;5;124m\"\u001b[39m\u001b[38;5;124mSparsity must not change.\u001b[39m\u001b[38;5;124m\"\u001b[39m\n",
      "\u001b[0;31mTypeError\u001b[0m: 'bool' object is not iterable"
     ]
    }
   ],
   "source": [
    "assert all(skvocab2 == vocab), \"You did not use use same parameters as above.\"\n",
    "assert sktfidf2.shape == dtm.shape, \"Matrix shapes do not agree.\"\n",
    "assert (sktfidf2 > 0).sum() == (dtm > 0).sum(), \"Sparsity must not change.\"\n",
    "assert abs(sktfidf2.power(2).sum() - sktfidf2.shape[0]) < 1e-7, \"Vectors are not 'c'.\"\n",
    "assert isinstance(sktfidf2, scipy.sparse.csr_matrix), \"Not a sparse matrix anymore!\"\n",
    "assert sktfidf2.dtype in [np.float32, np.float64, np.float16], \"Not using floating point.\"\n",
    "assert abs((sktfidf2 - sktfidf).sum()) > 1, \"Results are not different.\""
   ]
  },
  {
   "cell_type": "code",
   "execution_count": 175,
   "id": "0dba6ad9",
   "metadata": {
    "deletable": false,
    "editable": false,
    "nbgrader": {
     "cell_type": "code",
     "checksum": "c3f5bd12b61ddb207a2a0a4ba9d012ce",
     "grade": true,
     "grade_id": "cell-7d9e8e611ddaa614",
     "locked": true,
     "points": 1,
     "schema_version": 3,
     "solution": false,
     "task": false
    },
    "scrolled": true
   },
   "outputs": [
    {
     "ename": "AssertionError",
     "evalue": "Results are not similar.",
     "output_type": "error",
     "traceback": [
      "\u001b[0;31m---------------------------------------------------------------------------\u001b[0m",
      "\u001b[0;31mAssertionError\u001b[0m                            Traceback (most recent call last)",
      "Input \u001b[0;32mIn [175]\u001b[0m, in \u001b[0;36m<cell line: 1>\u001b[0;34m()\u001b[0m\n\u001b[0;32m----> 1\u001b[0m \u001b[38;5;28;01massert\u001b[39;00m np\u001b[38;5;241m.\u001b[39mabs(sktfidf2 \u001b[38;5;241m-\u001b[39m tfidf(dtm))\u001b[38;5;241m.\u001b[39msum() \u001b[38;5;241m<\u001b[39m \u001b[38;5;241m1e-3\u001b[39m, \u001b[38;5;124m\"\u001b[39m\u001b[38;5;124mResults are not similar.\u001b[39m\u001b[38;5;124m\"\u001b[39m\n",
      "\u001b[0;31mAssertionError\u001b[0m: Results are not similar."
     ]
    }
   ],
   "source": [
    "assert np.abs(sktfidf2 - tfidf(dtm)).sum() < 1e-3, \"Results are not similar.\""
   ]
  },
  {
   "cell_type": "markdown",
   "id": "55d6eea8",
   "metadata": {
    "deletable": false,
    "editable": false,
    "nbgrader": {
     "cell_type": "markdown",
     "checksum": "35f648ce1c5e7acecf0405c651fa9773",
     "grade": false,
     "grade_id": "cell-56763c0d14a02d66",
     "locked": true,
     "schema_version": 3,
     "solution": false,
     "task": false
    }
   },
   "source": [
    "# Compute the Cosine Similarity Matrix\n",
    "\n",
    "Compute the cosine similarity matrix of the speeches above.\n",
    "\n",
    "You are not allowed to use sklearn for this."
   ]
  },
  {
   "cell_type": "code",
   "execution_count": null,
   "id": "323c9fff",
   "metadata": {
    "deletable": false,
    "nbgrader": {
     "cell_type": "code",
     "checksum": "7fdbfc6a982a04bfc19ce339f1448c7d",
     "grade": false,
     "grade_id": "cell-2999500654ff8d30",
     "locked": false,
     "schema_version": 3,
     "solution": true,
     "task": false
    }
   },
   "outputs": [],
   "source": [
    "X = tfidf(dtm) # use your own tfidf results\n",
    "sim = None # Compute cosine similarities\n",
    "# YOUR CODE HERE\n",
    "raise NotImplementedError()\n",
    "del X # free memory again.\n",
    "print(\"Matrix of shape %d x %d\" % sim.shape)"
   ]
  },
  {
   "cell_type": "code",
   "execution_count": null,
   "id": "d758aa59",
   "metadata": {
    "deletable": false,
    "editable": false,
    "nbgrader": {
     "cell_type": "code",
     "checksum": "4c2195cdc44d0cab022a252f1c644f31",
     "grade": true,
     "grade_id": "cell-c3bc331c978c67ce",
     "locked": true,
     "points": 1,
     "schema_version": 3,
     "solution": false,
     "task": false
    }
   },
   "outputs": [],
   "source": [
    "assert sim.shape[0] == dtm.shape[0] and sim.shape[1] == dtm.shape[0], \"Matrix size incorrect\"\n",
    "assert sim.max() < 1+1e07, \"Invalid values\"\n",
    "assert sim.min() > -1e07, \"Invalid values\"\n",
    "assert np.abs(sim.diagonal().mean() - 1) < 1e-8, \"Diagonal is not valid.\""
   ]
  },
  {
   "cell_type": "markdown",
   "id": "a12aea19",
   "metadata": {
    "deletable": false,
    "editable": false,
    "nbgrader": {
     "cell_type": "markdown",
     "checksum": "385fef1c3e9ce6f29bf783ee889358f2",
     "grade": false,
     "grade_id": "cell-dce85dfc70e8ec47",
     "locked": true,
     "schema_version": 3,
     "solution": false,
     "task": false
    }
   },
   "source": [
    "## Find the two most similar speeches\n",
    "\n",
    "Given the similarity matrix, find the two most similar (different) speeches."
   ]
  },
  {
   "cell_type": "code",
   "execution_count": null,
   "id": "1b46bd79",
   "metadata": {
    "deletable": false,
    "nbgrader": {
     "cell_type": "code",
     "checksum": "f482e21a6cd29aa79334b49a9d7f1751",
     "grade": false,
     "grade_id": "cell-2bd943f280c3ce4d",
     "locked": false,
     "schema_version": 3,
     "solution": true,
     "task": false
    }
   },
   "outputs": [],
   "source": [
    "most_similar = (None, None, None) # Store a pair of document *labels* and their similarity\n",
    "# YOUR CODE HERE\n",
    "raise NotImplementedError()\n",
    "print(\"%s\\t%s\\t%g\" % most_similar)"
   ]
  },
  {
   "cell_type": "code",
   "execution_count": null,
   "id": "208c5ee0",
   "metadata": {
    "deletable": false,
    "editable": false,
    "nbgrader": {
     "cell_type": "code",
     "checksum": "a6a42a2e5b4904bb0a23de2aa3d74c71",
     "grade": true,
     "grade_id": "cell-1952f79fa08612ae",
     "locked": true,
     "points": 1,
     "schema_version": 3,
     "solution": false,
     "task": false
    }
   },
   "outputs": [],
   "source": [
    "assert isinstance(most_similar[0], str), \"Not a label\"\n",
    "assert isinstance(most_similar[1], str), \"Not a label\"\n",
    "assert isinstance(most_similar[2], float) or isinstance(most_similar[2], np.floating), \"Not a similarity\"\n",
    "assert most_similar[0] != most_similar[1]\n",
    "assert most_similar[2] > 0, \"There is definitely something similar.\"\n",
    "assert most_similar[2] < 1, \"There were no duplicate inaugural speeches yet.\""
   ]
  },
  {
   "cell_type": "code",
   "execution_count": null,
   "id": "ca63318e",
   "metadata": {
    "deletable": false,
    "editable": false,
    "nbgrader": {
     "cell_type": "code",
     "checksum": "8a198a8860cd12b9f5254093eb7f61d8",
     "grade": true,
     "grade_id": "cell-26b24a8ba7ab0196",
     "locked": true,
     "points": 1,
     "schema_version": 3,
     "solution": false,
     "task": false
    }
   },
   "outputs": [],
   "source": [
    "# Hidden tests"
   ]
  }
 ],
 "metadata": {
  "kernelspec": {
   "display_name": "Python 3 (ipykernel)",
   "language": "python",
   "name": "python3"
  },
  "language_info": {
   "codemirror_mode": {
    "name": "ipython",
    "version": 3
   },
   "file_extension": ".py",
   "mimetype": "text/x-python",
   "name": "python",
   "nbconvert_exporter": "python",
   "pygments_lexer": "ipython3",
   "version": "3.8.10"
  }
 },
 "nbformat": 4,
 "nbformat_minor": 5
}
